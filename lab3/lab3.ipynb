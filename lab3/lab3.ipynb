{
 "cells": [
  {
   "cell_type": "markdown",
   "id": "8d1d6992",
   "metadata": {},
   "source": [
    "---\n",
    "\n",
    "<h1><center>SDSE Lab 3 <br><br> K-means clustering </center></h1>\n",
    "\n",
    "---"
   ]
  },
  {
   "cell_type": "code",
   "execution_count": 89,
   "id": "d8a1b20a",
   "metadata": {},
   "outputs": [],
   "source": [
    "result = {\n",
    "    'SIDs': [27055041,3034243294, 3038584603, 3038619846] # enter the SIDs for the group members\n",
    "}"
   ]
  },
  {
   "cell_type": "code",
   "execution_count": 90,
   "id": "ffe6bff8",
   "metadata": {},
   "outputs": [],
   "source": [
    "import numpy as np\n",
    "import matplotlib.pyplot as plt\n",
    "import pickle\n",
    "import scipy.stats as stats"
   ]
  },
  {
   "cell_type": "markdown",
   "id": "249c15f9",
   "metadata": {},
   "source": [
    "# 1) Load the data\n",
    "Use `pickle.load` to load `data2d.pickle`. This file contains a single matrix called `X`. Use variables `N` and `D` for the number of rows (samples) and columns (features) respectively. (2 pts)"
   ]
  },
  {
   "cell_type": "code",
   "execution_count": 91,
   "id": "e91d1404",
   "metadata": {},
   "outputs": [],
   "source": [
    "with open('data2d.pickle','rb') as file:\n",
    "    X = pickle.load(file)\n",
    "    \n",
    "N = X.shape[0]\n",
    "D = X.shape[1]"
   ]
  },
  {
   "cell_type": "code",
   "execution_count": 92,
   "id": "fc142c5b",
   "metadata": {},
   "outputs": [],
   "source": [
    "################################\n",
    "# Reporting. Do not modify.#####\n",
    "result['N'] = N   # 1 point\n",
    "result['D'] = D   # 1 point\n",
    "################################"
   ]
  },
  {
   "cell_type": "markdown",
   "id": "2bc52794",
   "metadata": {},
   "source": [
    "# 2) Scatter plot\n",
    "Create a scatter plot with the first column along the x-axis and the second column along the y-axis. Use `plt.axis('equal')` to force the two axes to have the same scale. This is important for correct visualization of the Euclidean distances between points. Save your figure handle to `fig2`."
   ]
  },
  {
   "cell_type": "code",
   "execution_count": 93,
   "id": "f0537ad4",
   "metadata": {},
   "outputs": [
    {
     "data": {
      "image/png": "[encoded data removed]",
      "text/plain": [
       "<Figure size 500x500 with 1 Axes>"
      ]
     },
     "metadata": {},
     "output_type": "display_data"
    }
   ],
   "source": [
    "fig2 = plt.figure(figsize=(5,5))\n",
    "# ADD YOUR CODE HERE\n",
    "plt.scatter(X[:, 0], X[:, 1])\n",
    "plt.axis('equal')\n",
    "plt.show()\n"
   ]
  },
  {
   "cell_type": "code",
   "execution_count": 94,
   "id": "04d930f8",
   "metadata": {},
   "outputs": [],
   "source": [
    "################################\n",
    "# Reporting. Do not modify.#####\n",
    "result['fig2'] = fig2  # 2 points\n",
    "################################"
   ]
  },
  {
   "cell_type": "markdown",
   "id": "bc5f0929",
   "metadata": {},
   "source": [
    "# 3) Initialize centroids\n",
    "Complete the function below that takes the number of centroids `K` and the data matrix `X` and returns `K` randomly placed centroids. The centroids should be selected according to a uniform distribution that spans a box fitted to the data. The return value should be a numpy array with shape `(K,D)` where `D` is the number of columns in X. Make sure this function  works for for values of `D` other than 2."
   ]
  },
  {
   "cell_type": "code",
   "execution_count": 95,
   "id": "9dd2eac2",
   "metadata": {},
   "outputs": [],
   "source": [
    "def initialize_centroids(K,X):\n",
    "    # REMOVE THE pass AND ADD YOUR CODE HERE\n",
    "    D = len(X[0])\n",
    "    centroid_arr = np.empty((K, D))\n",
    "    for d in range(D):\n",
    "        x = X[:, d]\n",
    "        centroid_arr[:, d] = np.random.uniform(low = min(x), high = max(x), size = K)\n",
    "    \n",
    "    return centroid_arr\n",
    "    \n"
   ]
  },
  {
   "cell_type": "code",
   "execution_count": 96,
   "id": "490b9fa7",
   "metadata": {},
   "outputs": [],
   "source": [
    "################################\n",
    "# Reporting. Do not modify.#####\n",
    "result['C3'] = initialize_centroids(3,X)   # 6 points\n",
    "################################"
   ]
  },
  {
   "cell_type": "markdown",
   "id": "7d16f873",
   "metadata": {},
   "source": [
    "# 4) Compute the assignment for given centroids\n",
    "Complete the function below that takes the data matrix and centroid locations, and returns an assignment matrix `gamma`. `gamma` should be a numpy array with shape `(N,K)`. Each row of `gamma` should contain `K-1` `False` values and one `True` value in the position corresponding to the centroid that is nearest to that data point (Euclidean distance). Hint: `np.argmin`."
   ]
  },
  {
   "cell_type": "code",
   "execution_count": 97,
   "id": "318725fc",
   "metadata": {},
   "outputs": [],
   "source": [
    "def assign_samples_to_nearest_centroid(X,C):\n",
    "    N = X.shape[0]\n",
    "    K = C.shape[0]\n",
    "    gamma = np.zeros((N,K),dtype=bool)\n",
    "    # print(X)\n",
    "    # print(np.argmin(X, axis = 1))\n",
    "    # print(gamma)\n",
    "    # ADD YOUR CODE HERE\n",
    "    # print(X)\n",
    "    # print(C)\n",
    "    for i in range(N):\n",
    "        x_point = X[i]\n",
    "        centroid_tracker = []\n",
    "        for centroids in C:\n",
    "            euc = np.linalg.norm(x_point - centroids)\n",
    "            centroid_tracker.append(euc)\n",
    "        centroid_array = np.array(centroid_tracker)\n",
    "        index_closest_centroid = np.argmin(centroid_array)\n",
    "        # print(index)\n",
    "        gamma[i][index_closest_centroid] = True\n",
    "\n",
    "    # return None if all False in a column\n",
    "    # for column in range(K):\n",
    "    #     if not np.any(gamma[:,column]):\n",
    "    #         return None\n",
    "\n",
    "    # print(gamma)\n",
    "\n",
    "    return gamma"
   ]
  },
  {
   "cell_type": "code",
   "execution_count": 98,
   "id": "3a680ce9",
   "metadata": {},
   "outputs": [],
   "source": [
    "################################\n",
    "# Reporting. Do not modify.#####\n",
    "result['gamma4'] = assign_samples_to_nearest_centroid(X,result['C3'])    # 6 points\n",
    "################################"
   ]
  },
  {
   "attachments": {
    "image.png": {
     "image/png": "[encoded data removed]"
    }
   },
   "cell_type": "markdown",
   "id": "be32df09",
   "metadata": {},
   "source": [
    "# 5) Plot data, centroids, assignment\n",
    "Complete the function below that takes the data matrix, a set of centroids, and an assignment matrix and creates a scatter plot similar to the one shown here. The centroids should be indicated with a large dot, and the data samples should be color-coded according to their cluster membership. Your plot may not look identical to this one due to the random placement of the centroids.\n",
    "\n",
    "![image.png](attachment:image.png)"
   ]
  },
  {
   "cell_type": "code",
   "execution_count": 99,
   "id": "ee58631f",
   "metadata": {},
   "outputs": [],
   "source": [
    "def plot_scatter(X, C, gamma):\n",
    "    K = gamma.shape[1]\n",
    "    fig = plt.figure(figsize=(5,5))\n",
    "    \n",
    "    # ADD YOUR CODE HERE\n",
    "    for k in range(K):\n",
    "        assignments = gamma[:, k]\n",
    "        cluster_points = X[assignments]\n",
    "        # print(cluster_points)\n",
    "        plt.scatter(cluster_points[:, 0], cluster_points[:, 1])\n",
    "\n",
    "    plt.scatter(C[:, 0], C[:, 1], s = 100, color = 'red')\n",
    "    plt.axis('equal')\n",
    "    \n",
    "    \n",
    "    return fig"
   ]
  },
  {
   "cell_type": "code",
   "execution_count": 100,
   "id": "2d63a996",
   "metadata": {},
   "outputs": [
    {
     "data": {
      "image/png": "[encoded data removed]",
      "text/plain": [
       "<Figure size 500x500 with 1 Axes>"
      ]
     },
     "metadata": {},
     "output_type": "display_data"
    }
   ],
   "source": [
    "################################\n",
    "# Reporting. Do not modify.#####\n",
    "result['fig5'] = plot_scatter(X, result['C3'], result['gamma4'])    # 6 points\n",
    "################################"
   ]
  },
  {
   "cell_type": "markdown",
   "id": "5c244343",
   "metadata": {},
   "source": [
    "---\n",
    "\n",
    "# An aside on boolean indexing\n",
    "\n",
    "Boolean indexing is a useful way of selecting a sub-array from a larger array according to some condition. \n",
    "\n",
    "For example, suppose we have an array `A` of length 4, consisting of the integers from 0 to 3. "
   ]
  },
  {
   "cell_type": "code",
   "execution_count": 101,
   "id": "56dd33c4",
   "metadata": {},
   "outputs": [],
   "source": [
    "A = np.arange(4)"
   ]
  },
  {
   "cell_type": "markdown",
   "id": "223ca412",
   "metadata": {},
   "source": [
    "Here is how you can extract the zeroth and 2nd elements of `A` using boolean indexing:"
   ]
  },
  {
   "cell_type": "code",
   "execution_count": 102,
   "id": "4c87751c",
   "metadata": {},
   "outputs": [
    {
     "data": {
      "text/plain": [
       "array([0, 2])"
      ]
     },
     "execution_count": 102,
     "metadata": {},
     "output_type": "execute_result"
    }
   ],
   "source": [
    "A[[True,False,True,False]]"
   ]
  },
  {
   "cell_type": "markdown",
   "id": "1384a048",
   "metadata": {},
   "source": [
    "That is, you pass the boolean array `[True,False,True,False]` as a `selector` to `A[selector]`. This technique is useful when the boolean selector is created with a condition on the values of `A`. For example, if you wanted to extract all the values that are greater than 1.4:"
   ]
  },
  {
   "cell_type": "code",
   "execution_count": 103,
   "id": "c27d10f0",
   "metadata": {},
   "outputs": [
    {
     "data": {
      "text/plain": [
       "array([2, 3])"
      ]
     },
     "execution_count": 103,
     "metadata": {},
     "output_type": "execute_result"
    }
   ],
   "source": [
    "selector = A>1.4\n",
    "A[selector]"
   ]
  },
  {
   "cell_type": "markdown",
   "id": "d63169f8",
   "metadata": {},
   "source": [
    "or simply:"
   ]
  },
  {
   "cell_type": "code",
   "execution_count": 104,
   "id": "86aeee01",
   "metadata": {},
   "outputs": [
    {
     "data": {
      "text/plain": [
       "array([2, 3])"
      ]
     },
     "execution_count": 104,
     "metadata": {},
     "output_type": "execute_result"
    }
   ],
   "source": [
    "A[A>1.4]"
   ]
  },
  {
   "cell_type": "markdown",
   "id": "6aa39847",
   "metadata": {},
   "source": [
    "**Optional challenge:**\n",
    "    \n",
    "Define `A` as an array of integers from 0 to 9.\n",
    "1. Find the sum of elements of A that are even numbers.\n",
    "2. Find the sum of elements of A that are greater than seven."
   ]
  },
  {
   "cell_type": "code",
   "execution_count": 105,
   "id": "54880f9f",
   "metadata": {},
   "outputs": [
    {
     "name": "stdout",
     "output_type": "stream",
     "text": [
      "20\n",
      "17\n"
     ]
    }
   ],
   "source": [
    "A = np.arange(10)\n",
    "print(sum(A[A%2==0]))\n",
    "print(sum(A[A>7]))"
   ]
  },
  {
   "cell_type": "markdown",
   "id": "f2c66a76",
   "metadata": {},
   "source": [
    "---"
   ]
  },
  {
   "cell_type": "markdown",
   "id": "bed3c565",
   "metadata": {},
   "source": [
    "# 6) Compute the centroids for a given assignment\n",
    "Complete the function below that takes the assignment and the data matrix and returns centroids placed at the mean of each cluster. The return value should be a numpy array with shape `(K,D)`."
   ]
  },
  {
   "cell_type": "code",
   "execution_count": 106,
   "id": "fe53f2f7",
   "metadata": {},
   "outputs": [],
   "source": [
    "def place_centroids(gamma, X):\n",
    "    K = gamma.shape[1]\n",
    "    D = X.shape[1]\n",
    "    C = np.empty((K,D))\n",
    "    # ADD YOUR CODE HERE\n",
    "    for k in range(K):\n",
    "        assignments = gamma[:, k]\n",
    "        cluster_points = X[assignments]\n",
    "        cluster_centroid = np.mean(cluster_points, axis = 0)\n",
    "        C[k, :] = cluster_centroid\n",
    "\n",
    "    # X1, X2, X3 = [], [], []\n",
    "    # for i in range(len(gamma)):\n",
    "    #     index = np.where(gamma[i] == True)\n",
    "    #     if index[0][0] == 0:\n",
    "    #         X1.append(X[i])\n",
    "    #     elif index[0][0] == 1:\n",
    "    #         X2.append(X[i])\n",
    "    #     else:\n",
    "    #         X3.append(X[i])\n",
    "\n",
    "    # X1 = np.array(X1)\n",
    "    # X2 = np.array(X2)\n",
    "    # X3 = np.array(X3)\n",
    "\n",
    "    # C[0] = X1.mean(axis = 0)\n",
    "    # C[1]= X2.mean(axis = 0)\n",
    "    # C[2] = X3.mean(axis = 0)\n",
    "\n",
    "    return C"
   ]
  },
  {
   "cell_type": "code",
   "execution_count": 107,
   "id": "8f94b5fd",
   "metadata": {},
   "outputs": [],
   "source": [
    "################################\n",
    "# Reporting. Do not modify.#####\n",
    "result['C6'] = place_centroids(result['gamma4'], X)    # 6 points\n",
    "################################"
   ]
  },
  {
   "cell_type": "markdown",
   "id": "2fe85937",
   "metadata": {},
   "source": [
    "# 7) Code K-means\n",
    "Now we will use some of the functions we've developed to code the full k-means algorithm. \n",
    "\n",
    "Most of the algorithm has been written for you in terms of the functions you've already implemented. Your task is only to write the stopping criterion, which is to stop as soon as the assignment `gamma` does not change from one iteration to the next."
   ]
  },
  {
   "cell_type": "code",
   "execution_count": 108,
   "id": "8bba0755",
   "metadata": {},
   "outputs": [],
   "source": [
    "def run_kmeans(X,C):\n",
    "\n",
    "    done = False\n",
    "    first = True\n",
    "    gammaold = None\n",
    "    while not done:\n",
    "\n",
    "        gamma = assign_samples_to_nearest_centroid(X,C)\n",
    "        if gamma is None:\n",
    "            return None, None\n",
    "        C = place_centroids(gamma, X)\n",
    "        \n",
    "        if np.any(np.isnan(C)):\n",
    "            C = None\n",
    "            gamma = None\n",
    "            break\n",
    "\n",
    "        if gammaold is not None and np.all(gamma == gammaold): # REPLACE THE True WITH THE CORRECT STOPPING CRITERION\n",
    "            done = True\n",
    "            break\n",
    "            \n",
    "        gammaold = gamma\n",
    "        first = False\n",
    "\n",
    "    return C, gamma"
   ]
  },
  {
   "cell_type": "code",
   "execution_count": 109,
   "id": "09b8ffc8",
   "metadata": {},
   "outputs": [],
   "source": [
    "################################\n",
    "# Reporting. Do not modify.#####\n",
    "result['kmeans7'] = run_kmeans(X,result['C3'])    # 4 points\n",
    "################################"
   ]
  },
  {
   "cell_type": "markdown",
   "id": "6d3b6abb",
   "metadata": {},
   "source": [
    "# 8) Evaluate the cost function \n",
    "Complete the function below that evaluates the cost function (total inertia) for a given data matrix, centroid placement, and assignment matrix. The result is a scalar value.\n",
    "\n",
    "$\n",
    "J = \\sum_{i=1}^{N} \\sum_{k=1}^{K} \\gamma_{i,k}( x_i - \\mu_k )^2 \n",
    "$"
   ]
  },
  {
   "cell_type": "code",
   "execution_count": 110,
   "id": "8e90e43e",
   "metadata": {},
   "outputs": [],
   "source": [
    "def eval_cost(X,C,gamma):\n",
    "    K = gamma.shape[1]\n",
    "\n",
    "    cost = 0# REPLACE THE None WITH THE CORRECT COST FUNCTION\n",
    "\n",
    "    for i in range(len(X)):\n",
    "        point = X[i]\n",
    "        assignments = gamma[i, :]\n",
    "        centroids = C[assignments]\n",
    "        cost += np.linalg.norm(point - centroids)**2\n",
    "    return cost"
   ]
  },
  {
   "cell_type": "code",
   "execution_count": 111,
   "id": "fdcb797f",
   "metadata": {},
   "outputs": [],
   "source": [
    "################################\n",
    "# Reporting. Do not modify.#####\n",
    "result['cost8'] = eval_cost(X,result['C3'],result['gamma4'])    # 6 points\n",
    "################################"
   ]
  },
  {
   "cell_type": "markdown",
   "id": "4ad7dc0f",
   "metadata": {},
   "source": [
    "# 9) Ensemble run\n",
    "Complete the function below that runs kmeans `ensemblesize` times, each with a different initial centroid placement. These initial placements should be chosen with `initialize_centroids(K,X)`. The function should return the single run with the lowest cost. Results should be returned in a **dictionary** with keys `('C','gamma','cost')`. `C` are the best centroids, `gamma` is t|he best assignment, and `cost` is the corresponding cost."
   ]
  },
  {
   "cell_type": "code",
   "execution_count": 112,
   "id": "af323e60",
   "metadata": {},
   "outputs": [],
   "source": [
    "def ensemble_run(K,X,ensemblesize):\n",
    "    best_run = {'C':None,'gamma':None,'cost':None}\n",
    "    for e in range(ensemblesize):\n",
    "        \n",
    "        done = False\n",
    "        while not done:\n",
    "            C = initialize_centroids(K,X)\n",
    "            C, gamma = run_kmeans(X,C)\n",
    "            done = C is not None\n",
    "            \n",
    "        cost = eval_cost(X,C,gamma)\n",
    "       \n",
    "        # ADD CODE HERE THAT WILL KEEP ONLY THE BEST RUN\n",
    "        if best_run['cost'] is None or cost < best_run['cost']:\n",
    "            best_run['C'] = C\n",
    "            best_run['gamma'] = gamma\n",
    "            best_run['cost'] = cost\n",
    "    \n",
    "    return best_run"
   ]
  },
  {
   "cell_type": "code",
   "execution_count": 113,
   "id": "561898e3",
   "metadata": {},
   "outputs": [],
   "source": [
    "################################\n",
    "# Reporting. Do not modify.#####\n",
    "result['ens9'] = ensemble_run(3,X,100)    # 6 points\n",
    "################################"
   ]
  },
  {
   "cell_type": "markdown",
   "id": "61d67976",
   "metadata": {},
   "source": [
    "# 10) Iteration over K\n",
    "Complete the function below that takes the data matrix, a sample size, and a maximum number of clusters to consider (`maxK`).  The function should run `ensemble_run` for all values of `K` from 1 to `maxK`. It should return a numpy array of length `maxK-1` with the best case cost for each value of `K`."
   ]
  },
  {
   "cell_type": "code",
   "execution_count": 114,
   "id": "afc7024c",
   "metadata": {},
   "outputs": [],
   "source": [
    "def K_iteration(X, ensemblesize, maxK=10):\n",
    "    allK = list(range(1,maxK))\n",
    "    best_cost = np.empty(len(allK))\n",
    "    # ADD CODE HERE\n",
    "    for k in allK:\n",
    "        best_run = ensemble_run(k, X, ensemblesize)\n",
    "        best_cost[k - 1] = best_run['cost'] \n",
    "\n",
    "    print(best_cost)\n",
    "    \n",
    "    return best_cost"
   ]
  },
  {
   "cell_type": "markdown",
   "id": "46bdd5ca",
   "metadata": {},
   "source": [
    "# 11) Selecting K\n",
    "\n",
    "We now run `K_iteration` with `ensemblesize=200`, `maxK=10` and plot the result. The plot shows the percent improvement of each `K` over `K-1`. From this plot, choose an ideal value for `K` and report it in the results dictionary as `Kideal`."
   ]
  },
  {
   "cell_type": "code",
   "execution_count": 115,
   "id": "2ea62719",
   "metadata": {},
   "outputs": [
    {
     "name": "stdout",
     "output_type": "stream",
     "text": [
      "[2895.67902369  981.02477219  616.56731334  265.58230558  223.91615237\n",
      "  192.59481366  162.47747163  141.60084967  121.89760075]\n"
     ]
    },
    {
     "data": {
      "text/plain": [
       "(array([  0.,  25.,  50.,  75., 100., 125., 150., 175., 200., 225.]),\n",
       " [Text(0, 0, ''),\n",
       "  Text(0, 0, ''),\n",
       "  Text(0, 0, ''),\n",
       "  Text(0, 0, ''),\n",
       "  Text(0, 0, ''),\n",
       "  Text(0, 0, ''),\n",
       "  Text(0, 0, ''),\n",
       "  Text(0, 0, ''),\n",
       "  Text(0, 0, ''),\n",
       "  Text(0, 0, '')])"
      ]
     },
     "execution_count": 115,
     "metadata": {},
     "output_type": "execute_result"
    },
    {
     "data": {
      "image/png": "[encoded data removed]",
      "text/plain": [
       "<Figure size 800x500 with 1 Axes>"
      ]
     },
     "metadata": {},
     "output_type": "display_data"
    }
   ],
   "source": [
    "ensemblesize = 200\n",
    "maxK=10\n",
    "best_cost = K_iteration(X, ensemblesize, maxK)\n",
    "\n",
    "fig11 = plt.figure(figsize=(8,5))\n",
    "allK = list(range(1,maxK))\n",
    "plt.plot(allK[1:],100*np.abs(np.diff(best_cost)) / best_cost[1:],\n",
    "         linewidth=3,\n",
    "         marker='o',\n",
    "         markersize=8)\n",
    "\n",
    "plt.grid()\n",
    "plt.xticks(fontsize=16)\n",
    "plt.yticks(fontsize=16)"
   ]
  },
  {
   "cell_type": "code",
   "execution_count": 116,
   "id": "cb3be597",
   "metadata": {},
   "outputs": [],
   "source": [
    "# REPLACE THE None WITH YOUR Kideal VALUE.\n",
    "\n",
    "Kideal = 4"
   ]
  },
  {
   "cell_type": "code",
   "execution_count": 117,
   "id": "fca282c2",
   "metadata": {},
   "outputs": [],
   "source": [
    "################################\n",
    "# Reporting. Do not modify.#####\n",
    "result['fig11'] = fig11      # 6 points\n",
    "result['Kideal'] = Kideal    # 4 points\n",
    "################################"
   ]
  },
  {
   "cell_type": "markdown",
   "id": "9a3546c8",
   "metadata": {},
   "source": [
    "---\n",
    "## Do not modify below this"
   ]
  },
  {
   "cell_type": "code",
   "execution_count": 118,
   "id": "071c6e74",
   "metadata": {},
   "outputs": [],
   "source": [
    "with open('{}.pickle'.format(\"_\".join([str(sid) for sid in result['SIDs']])),'wb') as file:\n",
    "    pickle.dump(result,file)"
   ]
  },
  {
   "cell_type": "code",
   "execution_count": null,
   "id": "bc70e5ab",
   "metadata": {},
   "outputs": [],
   "source": []
  }
 ],
 "metadata": {
  "kernelspec": {
   "display_name": "Python 3.9.13 ('sdse')",
   "language": "python",
   "name": "python3"
  },
  "language_info": {
   "codemirror_mode": {
    "name": "ipython",
    "version": 3
   },
   "file_extension": ".py",
   "mimetype": "text/x-python",
   "name": "python",
   "nbconvert_exporter": "python",
   "pygments_lexer": "ipython3",
   "version": "3.9.13"
  },
  "vscode": {
   "interpreter": {
    "hash": "a3562645294ceb3e94f32aca29fc03cad9e666bc0a1444d24da08109d39c53bf"
   }
  }
 },
 "nbformat": 4,
 "nbformat_minor": 5
}
