{
 "cells": [
  {
   "cell_type": "code",
   "execution_count": 1,
   "metadata": {
    "deletable": false,
    "editable": false
   },
   "outputs": [],
   "source": [
    "# Initialize Otter\n",
    "import otter\n",
    "grader = otter.Notebook(\"hw5.ipynb\")"
   ]
  },
  {
   "cell_type": "markdown",
   "metadata": {},
   "source": [
    "---\n",
    "\n",
    "<h1><center>SDSE Homework 5 <br><br> Probability thresholds and the ROC curve </center></h1>\n",
    "\n",
    "---\n",
    "\n",
    "In this homework we will use the ROC curve for a logistic regression classifier to select  thresholds for maximizing accuracy or minimizing cost. The problem is based on the \"Iris dataset\", which is included with scikit-learn. You don't need to know anything about the dataset to complete the homework, but if you are curious you can find more information [here](https://en.wikipedia.org/wiki/Iris_flower_data_set) and [here](https://scikit-learn.org/stable/auto_examples/datasets/plot_iris_dataset.html)."
   ]
  },
  {
   "cell_type": "code",
   "execution_count": 2,
   "metadata": {
    "execution": {
     "iopub.execute_input": "2022-11-16T18:05:12.862163Z",
     "iopub.status.busy": "2022-11-16T18:05:12.861703Z",
     "iopub.status.idle": "2022-11-16T18:05:13.882525Z",
     "shell.execute_reply": "2022-11-16T18:05:13.881554Z"
    }
   },
   "outputs": [],
   "source": [
    "import numpy as np\n",
    "import matplotlib.pyplot as plt\n",
    "from matplotlib.colors import ListedColormap\n",
    "rng_seed = 23987\n",
    "cmap = ListedColormap(['red', 'green'])"
   ]
  },
  {
   "cell_type": "markdown",
   "metadata": {},
   "source": [
    "# Load the data\n",
    "\n",
    "Begin by importing the data using [`load_iris()`](https://scikit-learn.org/stable/modules/generated/sklearn.datasets.load_iris.html). This method returns a dictionary with several useful entries, including the feature and target data. The full dataset has measurements of three species of iris flowers: setosa, versicolor, and virginica. There are 50 samples of each type, totalling 150 samples. Each sample consists of 4 measurements: sepal length, sepal width, petal length, and petal width (all in centimeters). "
   ]
  },
  {
   "cell_type": "code",
   "execution_count": 3,
   "metadata": {
    "execution": {
     "iopub.execute_input": "2022-11-16T18:05:13.887614Z",
     "iopub.status.busy": "2022-11-16T18:05:13.887170Z",
     "iopub.status.idle": "2022-11-16T18:05:14.526530Z",
     "shell.execute_reply": "2022-11-16T18:05:14.525515Z"
    }
   },
   "outputs": [
    {
     "name": "stdout",
     "output_type": "stream",
     "text": [
      ".. _iris_dataset:\n",
      "\n",
      "Iris plants dataset\n",
      "--------------------\n",
      "\n",
      "**Data Set Characteristics:**\n",
      "\n",
      "    :Number of Instances: 150 (50 in each of three classes)\n",
      "    :Number of Attributes: 4 numeric, predictive attributes and the class\n",
      "    :Attribute Information:\n",
      "        - sepal length in cm\n",
      "        - sepal width in cm\n",
      "        - petal length in cm\n",
      "        - petal width in cm\n",
      "        - class:\n",
      "                - Iris-Setosa\n",
      "                - Iris-Versicolour\n",
      "                - Iris-Virginica\n",
      "                \n",
      "    :Summary Statistics:\n",
      "\n",
      "    ============== ==== ==== ======= ===== ====================\n",
      "                    Min  Max   Mean    SD   Class Correlation\n",
      "    ============== ==== ==== ======= ===== ====================\n",
      "    sepal length:   4.3  7.9   5.84   0.83    0.7826\n",
      "    sepal width:    2.0  4.4   3.05   0.43   -0.4194\n",
      "    petal length:   1.0  6.9   3.76   1.76    0.9490  (high!)\n",
      "    petal width:    0.1  2.5   1.20   0.76    0.9565  (high!)\n",
      "    ============== ==== ==== ======= ===== ====================\n",
      "\n",
      "    :Missing Attribute Values: None\n",
      "    :Class Distribution: 33.3% for each of 3 classes.\n",
      "    :Creator: R.A. Fisher\n",
      "    :Donor: Michael Marshall (MARSHALL%PLU@io.arc.nasa.gov)\n",
      "    :Date: July, 1988\n",
      "\n",
      "The famous Iris database, first used by Sir R.A. Fisher. The dataset is taken\n",
      "from Fisher's paper. Note that it's the same as in R, but not as in the UCI\n",
      "Machine Learning Repository, which has two wrong data points.\n",
      "\n",
      "This is perhaps the best known database to be found in the\n",
      "pattern recognition literature.  Fisher's paper is a classic in the field and\n",
      "is referenced frequently to this day.  (See Duda & Hart, for example.)  The\n",
      "data set contains 3 classes of 50 instances each, where each class refers to a\n",
      "type of iris plant.  One class is linearly separable from the other 2; the\n",
      "latter are NOT linearly separable from each other.\n",
      "\n",
      ".. topic:: References\n",
      "\n",
      "   - Fisher, R.A. \"The use of multiple measurements in taxonomic problems\"\n",
      "     Annual Eugenics, 7, Part II, 179-188 (1936); also in \"Contributions to\n",
      "     Mathematical Statistics\" (John Wiley, NY, 1950).\n",
      "   - Duda, R.O., & Hart, P.E. (1973) Pattern Classification and Scene Analysis.\n",
      "     (Q327.D83) John Wiley & Sons.  ISBN 0-471-22361-1.  See page 218.\n",
      "   - Dasarathy, B.V. (1980) \"Nosing Around the Neighborhood: A New System\n",
      "     Structure and Classification Rule for Recognition in Partially Exposed\n",
      "     Environments\".  IEEE Transactions on Pattern Analysis and Machine\n",
      "     Intelligence, Vol. PAMI-2, No. 1, 67-71.\n",
      "   - Gates, G.W. (1972) \"The Reduced Nearest Neighbor Rule\".  IEEE Transactions\n",
      "     on Information Theory, May 1972, 431-433.\n",
      "   - See also: 1988 MLC Proceedings, 54-64.  Cheeseman et al\"s AUTOCLASS II\n",
      "     conceptual clustering system finds 3 classes in the data.\n",
      "   - Many, many more ...\n"
     ]
    }
   ],
   "source": [
    "from sklearn import datasets\n",
    "\n",
    "iris = datasets.load_iris()\n",
    "\n",
    "print(iris.DESCR)"
   ]
  },
  {
   "cell_type": "markdown",
   "metadata": {},
   "source": [
    "# 1. Keep only rows and columns of interest\n",
    "\n",
    "We will build a binary model to distinguish just two species of flower: versicolor and virginica. We will build this model based on the first two features: sepal length and sepal width. \n",
    "\n",
    "+ Write code that extracts the targets and features of interest. Save them to arrays `X` and `y`.\n",
    "+ Use a [`LabelBinarizer`](https://scikit-learn.org/stable/modules/generated/sklearn.preprocessing.LabelBinarizer.html) to encode the output `y` as zeros and ones. This might seem like overkill in this particular sitatuation, where the outputs are already numerical. It is just to demonstrate the LabelBinarizer, which is a powerful class for transforming any labels in training or testing data to a format that is suitable for classification models. "
   ]
  },
  {
   "cell_type": "code",
   "execution_count": 4,
   "metadata": {
    "execution": {
     "iopub.execute_input": "2022-11-16T18:05:14.590639Z",
     "iopub.status.busy": "2022-11-16T18:05:14.589819Z",
     "iopub.status.idle": "2022-11-16T18:05:14.609997Z",
     "shell.execute_reply": "2022-11-16T18:05:14.609055Z"
    },
    "tags": []
   },
   "outputs": [],
   "source": [
    "from sklearn.preprocessing import LabelBinarizer\n",
    "\n",
    "keeprows = [i != 0 for i in iris.target]\n",
    "X = iris.data[keeprows]\n",
    "binarizer = LabelBinarizer()\n",
    "y = binarizer.fit_transform(iris.target[keeprows])\n",
    "\n",
    "y = y[:,0]\n",
    "X = X[:,:2]"
   ]
  },
  {
   "cell_type": "code",
   "execution_count": 5,
   "metadata": {
    "deletable": false,
    "editable": false
   },
   "outputs": [
    {
     "data": {
      "text/html": [
       "<p><strong><pre style='display: inline;'>q1</pre></strong> passed! 🍀</p>"
      ],
      "text/plain": [
       "q1 results: All test cases passed!"
      ]
     },
     "execution_count": 5,
     "metadata": {},
     "output_type": "execute_result"
    }
   ],
   "source": [
    "grader.check(\"q1\")"
   ]
  },
  {
   "cell_type": "markdown",
   "metadata": {},
   "source": [
    "# 2. Split the data into training and testing\n",
    "\n",
    "Use `train_test_split` to split `X` and `y` into training and testing datasets. 20% of the data should be kept for testing. The `random_state` parameter of the splitter should be set to `rng_seed`, for autograding purposes."
   ]
  },
  {
   "cell_type": "code",
   "execution_count": 6,
   "metadata": {
    "execution": {
     "iopub.execute_input": "2022-11-16T18:05:14.634460Z",
     "iopub.status.busy": "2022-11-16T18:05:14.633810Z",
     "iopub.status.idle": "2022-11-16T18:05:14.658178Z",
     "shell.execute_reply": "2022-11-16T18:05:14.656958Z"
    },
    "tags": []
   },
   "outputs": [],
   "source": [
    "from sklearn.model_selection import train_test_split\n",
    "\n",
    "X_train, X_test, y_train, y_test = train_test_split(X, y, test_size=0.2, random_state=rng_seed)"
   ]
  },
  {
   "cell_type": "code",
   "execution_count": 7,
   "metadata": {
    "deletable": false,
    "editable": false
   },
   "outputs": [
    {
     "data": {
      "text/html": [
       "<p><strong><pre style='display: inline;'>q2</pre></strong> passed! 🎉</p>"
      ],
      "text/plain": [
       "q2 results: All test cases passed!"
      ]
     },
     "execution_count": 7,
     "metadata": {},
     "output_type": "execute_result"
    }
   ],
   "source": [
    "grader.check(\"q2\")"
   ]
  },
  {
   "cell_type": "markdown",
   "metadata": {},
   "source": [
    "# 3. Build a logistic regression pipeline\n",
    "\n",
    "Create a pipeline with a standard scaler and a logistic regression classifier. Again, set the random state of the classifier to `rng_seed`. Then fit the model parameters."
   ]
  },
  {
   "cell_type": "code",
   "execution_count": 8,
   "metadata": {
    "execution": {
     "iopub.execute_input": "2022-11-16T18:05:14.690621Z",
     "iopub.status.busy": "2022-11-16T18:05:14.690237Z",
     "iopub.status.idle": "2022-11-16T18:05:14.730190Z",
     "shell.execute_reply": "2022-11-16T18:05:14.729321Z"
    },
    "tags": []
   },
   "outputs": [],
   "source": [
    "from sklearn.pipeline import Pipeline\n",
    "from sklearn.linear_model import LogisticRegression\n",
    "from sklearn.preprocessing import StandardScaler\n",
    "\n",
    "model = Pipeline([\n",
    "    ('scaler', StandardScaler()),\n",
    "    ('logreg', LogisticRegression(random_state=rng_seed))\n",
    "])\n",
    "\n",
    "model = model.fit(X_train, y_train)"
   ]
  },
  {
   "cell_type": "code",
   "execution_count": 9,
   "metadata": {
    "deletable": false,
    "editable": false
   },
   "outputs": [
    {
     "data": {
      "text/html": [
       "<p><strong><pre style='display: inline;'>q3</pre></strong> passed! 🌟</p>"
      ],
      "text/plain": [
       "q3 results: All test cases passed!"
      ]
     },
     "execution_count": 9,
     "metadata": {},
     "output_type": "execute_result"
    }
   ],
   "source": [
    "grader.check(\"q3\")"
   ]
  },
  {
   "cell_type": "markdown",
   "metadata": {},
   "source": [
    "# 4. Extract $\\theta_0$ and $\\theta$ from the trained logistic regression model\n",
    "\n",
    "Extract the parameters $\\theta_0$ and $\\theta$. Remember that the logistic regression object is accessed with `model.named_steps['logreg']`. Notice that the intercept is stored as an array of shape `(1,)` and the coefficients have shape `(1,2)`. In general, these attributes have shapes `(K-1,)` and `(K-1,P)`, where `K` is the number of output classes and `P` is the number of features. Hence, the software works for multi-class problems. Since we are only dealing with binary logistic regression, you should keep only the zeroth entry of the intercept and the coefficients. Thus, **`theta0` should be a scalar (float), and theta should be an array with shape `(2,)`**."
   ]
  },
  {
   "cell_type": "code",
   "execution_count": 10,
   "metadata": {
    "execution": {
     "iopub.execute_input": "2022-11-16T18:05:14.757091Z",
     "iopub.status.busy": "2022-11-16T18:05:14.756656Z",
     "iopub.status.idle": "2022-11-16T18:05:14.763705Z",
     "shell.execute_reply": "2022-11-16T18:05:14.762587Z"
    },
    "tags": []
   },
   "outputs": [],
   "source": [
    "theta0 = model.named_steps['logreg'].intercept_[0]\n",
    "theta = model.named_steps['logreg'].coef_.reshape(2,)"
   ]
  },
  {
   "cell_type": "code",
   "execution_count": 11,
   "metadata": {
    "deletable": false,
    "editable": false
   },
   "outputs": [
    {
     "data": {
      "text/html": [
       "<p><strong><pre style='display: inline;'>q4</pre></strong> passed! 💯</p>"
      ],
      "text/plain": [
       "q4 results: All test cases passed!"
      ]
     },
     "execution_count": 11,
     "metadata": {},
     "output_type": "execute_result"
    }
   ],
   "source": [
    "grader.check(\"q4\")"
   ]
  },
  {
   "cell_type": "markdown",
   "metadata": {},
   "source": [
    "### Plotting the data\n",
    "\n",
    "The plot below shows the test data along with the linear decision boundary. The are to the right of the decision boundary corresponds to virginica, and to the left is versicolor. Notice the misclassifications. "
   ]
  },
  {
   "cell_type": "code",
   "execution_count": 12,
   "metadata": {
    "execution": {
     "iopub.execute_input": "2022-11-16T18:05:14.790633Z",
     "iopub.status.busy": "2022-11-16T18:05:14.790196Z",
     "iopub.status.idle": "2022-11-16T18:05:15.070292Z",
     "shell.execute_reply": "2022-11-16T18:05:15.068872Z"
    }
   },
   "outputs": [
    {
     "data": {
      "text/plain": [
       "<matplotlib.legend.Legend at 0x16681c130>"
      ]
     },
     "execution_count": 12,
     "metadata": {},
     "output_type": "execute_result"
    },
    {
     "data": {
      "image/png": "[encoded data removed]",
      "text/plain": [
       "<Figure size 500x500 with 1 Axes>"
      ]
     },
     "metadata": {},
     "output_type": "display_data"
    }
   ],
   "source": [
    "Xtest_scaled = model.named_steps['scaler'].transform(X_test)\n",
    "\n",
    "plt.figure(figsize=(5,5))\n",
    "for output_class in range(2):\n",
    "    ind = y_test==output_class\n",
    "    plt.scatter(Xtest_scaled[ind,0],Xtest_scaled[ind,1],\n",
    "                label=iris.target_names[binarizer.classes_[output_class]])\n",
    "x2 = np.linspace(-2.5,2)\n",
    "x1 = -(theta0 + theta[1]*x2)/theta[0]\n",
    "plt.plot(x1,x2,'k')\n",
    "plt.axis('equal')\n",
    "plt.xlabel(iris.feature_names[0])\n",
    "plt.ylabel(iris.feature_names[1])\n",
    "plt.legend()"
   ]
  },
  {
   "cell_type": "markdown",
   "metadata": {},
   "source": [
    "# 5. Compute the test accuracy\n",
    "\n",
    "Use the model to make predictions for the test data, and store those predictions in `yhat`. Then use scikit-learn's `accuracy_score` method to estimate the accuracy of the model. "
   ]
  },
  {
   "cell_type": "code",
   "execution_count": 13,
   "metadata": {
    "execution": {
     "iopub.execute_input": "2022-11-16T18:05:15.076080Z",
     "iopub.status.busy": "2022-11-16T18:05:15.075663Z",
     "iopub.status.idle": "2022-11-16T18:05:15.087028Z",
     "shell.execute_reply": "2022-11-16T18:05:15.085683Z"
    },
    "tags": []
   },
   "outputs": [],
   "source": [
    "from sklearn.metrics import accuracy_score\n",
    "\n",
    "yhat = model.predict(X_test)\n",
    "test_acc = accuracy_score(y_test, yhat)"
   ]
  },
  {
   "cell_type": "code",
   "execution_count": 14,
   "metadata": {
    "deletable": false,
    "editable": false
   },
   "outputs": [
    {
     "data": {
      "text/html": [
       "<p><strong><pre style='display: inline;'>q5</pre></strong> passed! 🙌</p>"
      ],
      "text/plain": [
       "q5 results: All test cases passed!"
      ]
     },
     "execution_count": 14,
     "metadata": {},
     "output_type": "execute_result"
    }
   ],
   "source": [
    "grader.check(\"q5\")"
   ]
  },
  {
   "cell_type": "markdown",
   "metadata": {},
   "source": [
    "# 6. Compute the prediction probabilities\n",
    "\n",
    "Use the model's `predict_proba` method to estimate class probabilities for the test data points. Notice that the probabilities for class 0 and class 1 add up to one for each test data point. Store the probabilities for class 1 in an array `yhat_proba`, whose shape should be `(20,)`."
   ]
  },
  {
   "cell_type": "code",
   "execution_count": 15,
   "metadata": {
    "execution": {
     "iopub.execute_input": "2022-11-16T18:05:15.118688Z",
     "iopub.status.busy": "2022-11-16T18:05:15.118312Z",
     "iopub.status.idle": "2022-11-16T18:05:15.127013Z",
     "shell.execute_reply": "2022-11-16T18:05:15.125970Z"
    },
    "tags": []
   },
   "outputs": [
    {
     "name": "stdout",
     "output_type": "stream",
     "text": [
      "[0.70645249 0.6714233  0.40515411 0.22148831 0.50913494 0.41076289\n",
      " 0.85011999 0.55760248 0.57100837 0.57100837 0.84811455 0.73163383\n",
      " 0.27362957 0.58810785 0.83352675 0.58810785 0.75540295 0.25392753\n",
      " 0.05817622 0.48578862]\n"
     ]
    },
    {
     "data": {
      "text/plain": [
       "(20,)"
      ]
     },
     "execution_count": 15,
     "metadata": {},
     "output_type": "execute_result"
    }
   ],
   "source": [
    "yhat_proba = model.predict_proba(X_test)[:, 1]\n",
    "print(yhat_proba)\n",
    "yhat_proba.shape"
   ]
  },
  {
   "cell_type": "code",
   "execution_count": 16,
   "metadata": {
    "deletable": false,
    "editable": false
   },
   "outputs": [
    {
     "data": {
      "text/html": [
       "<p><strong><pre style='display: inline;'>q6</pre></strong> passed! 🌟</p>"
      ],
      "text/plain": [
       "q6 results: All test cases passed!"
      ]
     },
     "execution_count": 16,
     "metadata": {},
     "output_type": "execute_result"
    }
   ],
   "source": [
    "grader.check(\"q6\")"
   ]
  },
  {
   "cell_type": "markdown",
   "metadata": {},
   "source": [
    "# 7. Use scikit-learn to plot the ROC curve\n",
    "\n",
    "See the documentation for scikit-learn's [`roc_curve`](https://scikit-learn.org/stable/modules/generated/sklearn.metrics.roc_curve.html).\n",
    "+ Plot the ROC curve based on the outputs of the `roc_curve` method. \n",
    "+ Add labels to the x and y axes. "
   ]
  },
  {
   "cell_type": "code",
   "execution_count": 17,
   "metadata": {
    "execution": {
     "iopub.execute_input": "2022-11-16T18:05:15.146353Z",
     "iopub.status.busy": "2022-11-16T18:05:15.145972Z",
     "iopub.status.idle": "2022-11-16T18:05:15.344983Z",
     "shell.execute_reply": "2022-11-16T18:05:15.343727Z"
    },
    "tags": []
   },
   "outputs": [
    {
     "data": {
      "text/plain": [
       "Text(0, 0.5, 'TPR')"
      ]
     },
     "execution_count": 17,
     "metadata": {},
     "output_type": "execute_result"
    },
    {
     "data": {
      "image/png": "[encoded data removed]",
      "text/plain": [
       "<Figure size 700x600 with 1 Axes>"
      ]
     },
     "metadata": {},
     "output_type": "display_data"
    }
   ],
   "source": [
    "from sklearn.metrics import roc_curve\n",
    "\n",
    "fpr, tpr, thresholds = roc_curve(y_test, yhat_proba, pos_label=1)\n",
    "plt.figure(figsize=(7, 6))\n",
    "plt.plot(fpr, tpr, '.-')\n",
    "plt.xlabel('FPR')\n",
    "plt.ylabel('TPR')"
   ]
  },
  {
   "cell_type": "code",
   "execution_count": 18,
   "metadata": {
    "deletable": false,
    "editable": false
   },
   "outputs": [
    {
     "data": {
      "text/html": [
       "<p><strong><pre style='display: inline;'>q7</pre></strong> passed! 🌈</p>"
      ],
      "text/plain": [
       "q7 results: All test cases passed!"
      ]
     },
     "execution_count": 18,
     "metadata": {},
     "output_type": "execute_result"
    }
   ],
   "source": [
    "grader.check(\"q7\")"
   ]
  },
  {
   "cell_type": "markdown",
   "metadata": {},
   "source": [
    "# 8. Compute performance metrics\n",
    "\n",
    "## 8.1. Allocate arrays\n",
    "\n",
    "Define:\n",
    "+ `N`: Total number of test samples\n",
    "+ `Nn`: Number of negative samples (corresponding to y_test==0)\n",
    "+ `Np`: Number of postive samples (corresponding to y_test==1)\n",
    "+ Allocate arrays for the performance metrics.\n",
    "    + `TPR`: True positie rate\n",
    "    + `TNR`: True negative rate\n",
    "    + `A`: Accuracy\n",
    "    + `Cost`: Cost \n",
    "The length of these arrays should equal the number of test data points."
   ]
  },
  {
   "cell_type": "code",
   "execution_count": 19,
   "metadata": {
    "execution": {
     "iopub.execute_input": "2022-11-16T18:05:15.384393Z",
     "iopub.status.busy": "2022-11-16T18:05:15.384083Z",
     "iopub.status.idle": "2022-11-16T18:05:15.391601Z",
     "shell.execute_reply": "2022-11-16T18:05:15.390849Z"
    },
    "tags": []
   },
   "outputs": [],
   "source": [
    "N = len(X_test)\n",
    "Nn = sum(y_test == 0)\n",
    "Np = sum(y_test == 1)\n",
    "\n",
    "\n",
    "TPR = np.empty(N)\n",
    "TNR = np.empty(N)\n",
    "A = np.empty(N)\n",
    "Cost = np.empty(N)"
   ]
  },
  {
   "cell_type": "code",
   "execution_count": 20,
   "metadata": {
    "deletable": false,
    "editable": false
   },
   "outputs": [
    {
     "data": {
      "text/html": [
       "<p><strong><pre style='display: inline;'>q8p1</pre></strong> passed! 🎉</p>"
      ],
      "text/plain": [
       "q8p1 results: All test cases passed!"
      ]
     },
     "execution_count": 20,
     "metadata": {},
     "output_type": "execute_result"
    }
   ],
   "source": [
    "grader.check(\"q8p1\")"
   ]
  },
  {
   "cell_type": "markdown",
   "metadata": {},
   "source": [
    "## 8.2. Compute performance metrics\n",
    "\n",
    "Next we will compute the value of the four performance metrics (`TPR`, `TNR`, `A`, `Cost`) as the classification threshold varies along the ROC curve. \n",
    "\n",
    "`Cost` is computed assuming that a false positive is 5 times more costly than a false negative, and that there is zero profit associated with true positives and true negatives. \n",
    "\n",
    "`Cost` = 5*`FP` + `FN`\n",
    "\n",
    "Follow these steps in the calculation:\n",
    "1. Make a sorted copy of `yhat_proba`, and call it `Rho`. Hints: [copy()](https://numpy.org/doc/stable/reference/generated/numpy.copy.html), [sort()](https://www.google.com/search?channel=fs&client=ubuntu&q=numpy+sort)\n",
    "2. Iterate through the sorted thresholds. For each one, make predictions for the test data using the formula:\n",
    "\n",
    "$$\n",
    "\\hat{y} = \\left\\{\n",
    "    \\begin{array}\\\\\n",
    "        1 & \\mbox{if } \\ p(Y=1|x)\\geq\\rho \\\\\n",
    "        0 & \\mbox{otherwise}\n",
    "    \\end{array}\n",
    "\\right.\n",
    "$$\n",
    "\n",
    "Store these in `ypred`\n",
    "\n",
    "3. Compute the values of the confusion matrix (`TP`,`FP`,`TN`,`FN`) for each value of `Rho`.\n",
    "4. Compute the corresponding performance metrics. "
   ]
  },
  {
   "cell_type": "code",
   "execution_count": 21,
   "metadata": {
    "execution": {
     "iopub.execute_input": "2022-11-16T18:05:15.415849Z",
     "iopub.status.busy": "2022-11-16T18:05:15.415549Z",
     "iopub.status.idle": "2022-11-16T18:05:15.427922Z",
     "shell.execute_reply": "2022-11-16T18:05:15.427164Z"
    },
    "tags": []
   },
   "outputs": [],
   "source": [
    "# 1. Sorted thresholds\n",
    "Rho = np.sort(np.copy(yhat_proba))\n",
    "\n",
    "for i, rho in enumerate(Rho):\n",
    "    \n",
    "    # 2. Compute the positive and negative predictions using rho as the threshold\n",
    "    # Hint: You don't need to use the model for this. Only yhat_proba. \n",
    "    ypred = np.empty(N)\n",
    "    for j in range(len(yhat_proba)):\n",
    "        ypred[j] = 1 if yhat_proba[j] >= rho else 0\n",
    "\n",
    "    # 3. Confusion matrix\n",
    "    TP = sum((ypred == 1) & (y_test==1))\n",
    "    FP = sum((ypred == 1) & (y_test==0))\n",
    "    TN = sum((ypred == 0) & (y_test==0))\n",
    "    FN = sum((ypred == 0) & (y_test==1))\n",
    "\n",
    "    # 4. Performance metrics\n",
    "    TPR[i] = TP/(TP+FN)\n",
    "    TNR[i] = TN/(TN+FP)\n",
    "    A[i] = (TP+TN)/N\n",
    "    Cost[i] = 5*FP + FN"
   ]
  },
  {
   "cell_type": "code",
   "execution_count": 22,
   "metadata": {
    "deletable": false,
    "editable": false
   },
   "outputs": [
    {
     "data": {
      "text/html": [
       "<p><strong><pre style='display: inline;'>q8p2</pre></strong> passed! 🌈</p>"
      ],
      "text/plain": [
       "q8p2 results: All test cases passed!"
      ]
     },
     "execution_count": 22,
     "metadata": {},
     "output_type": "execute_result"
    }
   ],
   "source": [
    "grader.check(\"q8p2\")"
   ]
  },
  {
   "cell_type": "markdown",
   "metadata": {},
   "source": [
    "# 9. Best threshold for accuracy\n",
    "\n",
    "Report the optimal accuracy and its corresponding probability threshold value."
   ]
  },
  {
   "cell_type": "code",
   "execution_count": 23,
   "metadata": {
    "execution": {
     "iopub.execute_input": "2022-11-16T18:05:15.478742Z",
     "iopub.status.busy": "2022-11-16T18:05:15.478450Z",
     "iopub.status.idle": "2022-11-16T18:05:15.485367Z",
     "shell.execute_reply": "2022-11-16T18:05:15.484408Z"
    },
    "tags": []
   },
   "outputs": [],
   "source": [
    "ind = np.argmax(A)\n",
    "rhoA = Rho[ind]\n",
    "Abest = A[ind]"
   ]
  },
  {
   "cell_type": "code",
   "execution_count": 24,
   "metadata": {
    "deletable": false,
    "editable": false
   },
   "outputs": [
    {
     "data": {
      "text/html": [
       "<p><strong><pre style='display: inline;'>q9</pre></strong> passed! ✨</p>"
      ],
      "text/plain": [
       "q9 results: All test cases passed!"
      ]
     },
     "execution_count": 24,
     "metadata": {},
     "output_type": "execute_result"
    }
   ],
   "source": [
    "grader.check(\"q9\")"
   ]
  },
  {
   "cell_type": "markdown",
   "metadata": {},
   "source": [
    "# 10. Plot\n",
    "\n",
    "Plot the accuracy vs threshold curve and indicate the optimal point with a marker. [1 point]"
   ]
  },
  {
   "cell_type": "code",
   "execution_count": 25,
   "metadata": {
    "execution": {
     "iopub.execute_input": "2022-11-16T18:05:15.501025Z",
     "iopub.status.busy": "2022-11-16T18:05:15.500728Z",
     "iopub.status.idle": "2022-11-16T18:05:15.690392Z",
     "shell.execute_reply": "2022-11-16T18:05:15.689331Z"
    },
    "tags": []
   },
   "outputs": [
    {
     "data": {
      "text/plain": [
       "Text(0, 0.5, 'Accuracy')"
      ]
     },
     "execution_count": 25,
     "metadata": {},
     "output_type": "execute_result"
    },
    {
     "data": {
      "image/png": "[encoded data removed]",
      "text/plain": [
       "<Figure size 700x500 with 1 Axes>"
      ]
     },
     "metadata": {},
     "output_type": "display_data"
    }
   ],
   "source": [
    "plt.figure(figsize=(7,5))\n",
    "plt.plot(Rho, A)\n",
    "plt.scatter(rhoA, Abest, color = 'r', marker = 'o')\n",
    "plt.xlabel('rho',fontsize=16)\n",
    "plt.ylabel('Accuracy',fontsize=16)"
   ]
  },
  {
   "cell_type": "markdown",
   "metadata": {},
   "source": [
    "# 11. Best threshold for cost\n",
    "\n",
    "Report the optimal cost and its corresponding probability threshold value."
   ]
  },
  {
   "cell_type": "code",
   "execution_count": 26,
   "metadata": {
    "execution": {
     "iopub.execute_input": "2022-11-16T18:05:15.695667Z",
     "iopub.status.busy": "2022-11-16T18:05:15.695329Z",
     "iopub.status.idle": "2022-11-16T18:05:15.703031Z",
     "shell.execute_reply": "2022-11-16T18:05:15.702053Z"
    },
    "tags": []
   },
   "outputs": [],
   "source": [
    "rhoC = Rho[np.argmin(Cost)]\n",
    "Cbest = min(Cost)"
   ]
  },
  {
   "cell_type": "code",
   "execution_count": 27,
   "metadata": {
    "deletable": false,
    "editable": false
   },
   "outputs": [
    {
     "data": {
      "text/html": [
       "<p><strong><pre style='display: inline;'>q11</pre></strong> passed! 🌈</p>"
      ],
      "text/plain": [
       "q11 results: All test cases passed!"
      ]
     },
     "execution_count": 27,
     "metadata": {},
     "output_type": "execute_result"
    }
   ],
   "source": [
    "grader.check(\"q11\")"
   ]
  },
  {
   "cell_type": "markdown",
   "metadata": {},
   "source": [
    "# 12. Plot\n",
    "\n",
    "Plot the cost vs threshold curve and indicate the optimal point with a marker. [1 point]"
   ]
  },
  {
   "cell_type": "code",
   "execution_count": 28,
   "metadata": {
    "execution": {
     "iopub.execute_input": "2022-11-16T18:05:15.719308Z",
     "iopub.status.busy": "2022-11-16T18:05:15.718971Z",
     "iopub.status.idle": "2022-11-16T18:05:16.030653Z",
     "shell.execute_reply": "2022-11-16T18:05:16.029262Z"
    },
    "tags": []
   },
   "outputs": [
    {
     "data": {
      "text/plain": [
       "Text(0, 0.5, 'Cost')"
      ]
     },
     "execution_count": 28,
     "metadata": {},
     "output_type": "execute_result"
    },
    {
     "data": {
      "image/png": "[encoded data removed]",
      "text/plain": [
       "<Figure size 700x500 with 1 Axes>"
      ]
     },
     "metadata": {},
     "output_type": "display_data"
    }
   ],
   "source": [
    "plt.figure(figsize=(7,5))\n",
    "plt.plot(Rho, Cost)\n",
    "plt.scatter(rhoC, Cbest, color = 'r', marker = 'o')\n",
    "plt.xlabel('rho',fontsize=16)\n",
    "plt.ylabel('Cost',fontsize=16)"
   ]
  },
  {
   "cell_type": "markdown",
   "metadata": {},
   "source": [
    "# 13. ROC curve\n",
    "\n",
    "Plot the true positive rate vs the false positive rate. Use the same markers to indicate the optimal accuracy and optimal cost solutions. [2 points]"
   ]
  },
  {
   "cell_type": "code",
   "execution_count": 29,
   "metadata": {
    "execution": {
     "iopub.execute_input": "2022-11-16T18:05:16.037015Z",
     "iopub.status.busy": "2022-11-16T18:05:16.036625Z",
     "iopub.status.idle": "2022-11-16T18:05:16.214850Z",
     "shell.execute_reply": "2022-11-16T18:05:16.213647Z"
    },
    "tags": []
   },
   "outputs": [
    {
     "data": {
      "text/plain": [
       "Text(0, 0.5, 'TPR')"
      ]
     },
     "execution_count": 29,
     "metadata": {},
     "output_type": "execute_result"
    },
    {
     "data": {
      "image/png": "[encoded data removed]",
      "text/plain": [
       "<Figure size 700x500 with 1 Axes>"
      ]
     },
     "metadata": {},
     "output_type": "display_data"
    }
   ],
   "source": [
    "plt.figure(figsize=(7,5))\n",
    "FPR = 1 - TNR\n",
    "plt.plot(FPR, TPR, '.-')\n",
    "plt.scatter(FPR[np.argmax(A)], TPR[np.argmax(A)], color = 'r', marker = 'o')\n",
    "plt.scatter(FPR[np.argmin(Cost)], TPR[np.argmin(Cost)], color = 'g', marker = 'o')\n",
    "plt.xlabel('FPR',fontsize=16)\n",
    "plt.ylabel('TPR',fontsize=16)"
   ]
  },
  {
   "cell_type": "markdown",
   "metadata": {
    "deletable": false,
    "editable": false
   },
   "source": [
    "## Submission\n",
    "\n",
    "Make sure you have run all cells in your notebook in order before running the cell below, so that all images/graphs appear in the output. The cell below will generate a zip file for you to submit. **Please save before exporting!**"
   ]
  },
  {
   "cell_type": "code",
   "execution_count": 30,
   "metadata": {
    "deletable": false,
    "editable": false
   },
   "outputs": [
    {
     "name": "stdout",
     "output_type": "stream",
     "text": [
      "Running your submission against local test cases...\n",
      "\n",
      "\n",
      "\n",
      "Your submission received the following results when run against available test cases:\n",
      "\n",
      "    q1 results: All test cases passed!\n",
      "\n",
      "    q2 results: All test cases passed!\n",
      "\n",
      "    q3 results: All test cases passed!\n",
      "\n",
      "    q4 results: All test cases passed!\n",
      "\n",
      "    q5 results: All test cases passed!\n",
      "\n",
      "    q6 results: All test cases passed!\n",
      "\n",
      "    q7 results: All test cases passed!\n",
      "\n",
      "    q8p1 results: All test cases passed!\n",
      "\n",
      "    q8p2 results: All test cases passed!\n",
      "\n",
      "    q9 results: All test cases passed!\n",
      "\n",
      "    q11 results: All test cases passed!\n"
     ]
    },
    {
     "data": {
      "text/html": [
       "\n",
       "            <p>Your submission has been exported. Click <a href=\"hw5_2022_11_24T16_55_06_808962.zip\" download=\"hw5_2022_11_24T16_55_06_808962.zip\" target=\"_blank\">here</a>\n",
       "            to download the zip file.</p>\n",
       "            "
      ],
      "text/plain": [
       "<IPython.core.display.HTML object>"
      ]
     },
     "metadata": {},
     "output_type": "display_data"
    }
   ],
   "source": [
    "# Save your notebook first, then run this cell to export your submission.\n",
    "grader.export(pdf=False, run_tests=True)"
   ]
  },
  {
   "cell_type": "markdown",
   "metadata": {},
   "source": [
    " "
   ]
  }
 ],
 "metadata": {
  "kernelspec": {
   "display_name": "Python 3.9.13 ('sdse')",
   "language": "python",
   "name": "python3"
  },
  "language_info": {
   "codemirror_mode": {
    "name": "ipython",
    "version": 3
   },
   "file_extension": ".py",
   "mimetype": "text/x-python",
   "name": "python",
   "nbconvert_exporter": "python",
   "pygments_lexer": "ipython3",
   "version": "3.9.13"
  },
  "otter": {
   "OK_FORMAT": true,
   "tests": {
    "q1": {
     "name": "q1",
     "points": null,
     "suites": [
      {
       "cases": [
        {
         "code": ">>> X.shape==(100, 2)\nTrue",
         "hidden": false,
         "locked": false,
         "points": 1
        },
        {
         "code": ">>> y.shape==(100,)\nTrue",
         "hidden": false,
         "locked": false,
         "points": 1
        }
       ],
       "scored": true,
       "setup": "",
       "teardown": "",
       "type": "doctest"
      }
     ]
    },
    "q11": {
     "name": "q11",
     "points": null,
     "suites": [
      {
       "cases": [
        {
         "code": ">>> np.isclose(rhoC,0.58810785,1e-3) or np.isclose(rhoC,0.58810785,1e-3) or np.isclose(rhoC,0.83352675,1e-3)\nTrue",
         "hidden": false,
         "locked": false,
         "points": 2
        }
       ],
       "scored": true,
       "setup": "",
       "teardown": "",
       "type": "doctest"
      }
     ]
    },
    "q2": {
     "name": "q2",
     "points": null,
     "suites": [
      {
       "cases": [
        {
         "code": ">>> np.all(y_test==[1, 1, 0, 0, 1, 0, 1, 1, 0, 1, 1, 1, 1, 1, 1, 1, 0, 0, 1, 1])\nTrue",
         "hidden": false,
         "locked": false,
         "points": 1
        },
        {
         "code": ">>> \n>>> np.all(X_test==[[6.7, 3.3],\n...                 [6.7, 3. ],\n...                 [6.3, 2.3],\n...                 [5.6, 3. ],\n...                 [6.2, 3.4],\n...                 [6.1, 3. ],\n...                 [7.3, 2.9],\n...                 [6.4, 3.1],\n...                 [6.4, 3.2],\n...                 [6.4, 3.2],\n...                 [7.2, 3.2],\n...                 [6.8, 3.2],\n...                 [6. , 2.2],\n...                 [6.5, 3. ],\n...                 [7.2, 3. ],\n...                 [6.5, 3. ],\n...                 [6.9, 3.1],\n...                 [5.7, 3. ],\n...                 [4.9, 2.5],\n...                 [6.3, 2.9]])\nTrue",
         "hidden": false,
         "locked": false,
         "points": 1
        }
       ],
       "scored": true,
       "setup": "",
       "teardown": "",
       "type": "doctest"
      }
     ]
    },
    "q3": {
     "name": "q3",
     "points": null,
     "suites": [
      {
       "cases": [
        {
         "code": ">>> np.isclose(model.named_steps['logreg'].intercept_[0],-0.21835993602952442,atol=1e-3)\nTrue",
         "hidden": false,
         "locked": false,
         "points": 1
        },
        {
         "code": ">>> np.all(np.isclose(model.named_steps['logreg'].coef_[0],[1.21227425, 0.18166092],atol=1e-3))\nTrue",
         "hidden": false,
         "locked": false,
         "points": 1
        }
       ],
       "scored": true,
       "setup": "",
       "teardown": "",
       "type": "doctest"
      }
     ]
    },
    "q4": {
     "name": "q4",
     "points": null,
     "suites": [
      {
       "cases": [
        {
         "code": ">>> np.isclose(theta0,-0.21835993602952442,atol=1e-3)\nTrue",
         "hidden": false,
         "locked": false,
         "points": 2
        },
        {
         "code": ">>> np.all(np.isclose(theta,[1.21227425, 0.18166092],atol=1e-3))\nTrue",
         "hidden": false,
         "locked": false,
         "points": 2
        }
       ],
       "scored": true,
       "setup": "",
       "teardown": "",
       "type": "doctest"
      }
     ]
    },
    "q5": {
     "name": "q5",
     "points": null,
     "suites": [
      {
       "cases": [
        {
         "code": ">>> np.isclose(test_acc,0.75)\nTrue",
         "hidden": false,
         "locked": false,
         "points": 2
        },
        {
         "code": ">>> np.all(np.isclose(yhat,[1, 1, 0, 0, 1, 0, 1, 1, 1, 1, 1, 1, 0, 1, 1, 1, 1, 0, 0, 0]))\nTrue",
         "hidden": false,
         "locked": false,
         "points": 2
        }
       ],
       "scored": true,
       "setup": "",
       "teardown": "",
       "type": "doctest"
      }
     ]
    },
    "q6": {
     "name": "q6",
     "points": null,
     "suites": [
      {
       "cases": [
        {
         "code": ">>> np.all(np.isclose(yhat_proba,[0.70645249, 0.6714233 , 0.40515411, 0.22148831, 0.50913494,\n...        0.41076289, 0.85011999, 0.55760248, 0.57100837, 0.57100837,\n...        0.84811455, 0.73163383, 0.27362957, 0.58810785, 0.83352675,\n...        0.58810785, 0.75540295, 0.25392753, 0.05817622, 0.48578862],atol=1e-3))\nTrue",
         "hidden": false,
         "locked": false,
         "points": 2
        }
       ],
       "scored": true,
       "setup": "",
       "teardown": "",
       "type": "doctest"
      }
     ]
    },
    "q7": {
     "name": "q7",
     "points": null,
     "suites": [
      {
       "cases": [
        {
         "code": ">>> np.all(np.isclose(fpr,[0., 0. , 0. , 0.16666667, 0.16666667,\n...        0.16666667, 0.33333333, 0.33333333, 0.66666667, 0.66666667,\n...        1., 1.],atol=1e-3))\nTrue",
         "hidden": false,
         "locked": false,
         "points": 1
        },
        {
         "code": ">>> np.all(np.isclose(tpr,[0. , 0.07142857, 0.21428571, 0.21428571, 0.42857143,\n...        0.57142857, 0.64285714, 0.85714286, 0.85714286, 0.92857143,\n...        0.92857143, 1.],atol=1e-3))\nTrue",
         "hidden": false,
         "locked": false,
         "points": 1
        },
        {
         "code": ">>> np.all(np.isclose(thresholds,[1.85011999, 0.85011999, 0.83352675, 0.75540295, 0.6714233 ,\n...        0.58810785, 0.57100837, 0.48578862, 0.40515411, 0.27362957,\n...        0.22148831, 0.05817622],atol=1e-3))\nTrue",
         "hidden": false,
         "locked": false,
         "points": 1
        }
       ],
       "scored": true,
       "setup": "",
       "teardown": "",
       "type": "doctest"
      }
     ]
    },
    "q8p1": {
     "name": "q8p1",
     "points": null,
     "suites": [
      {
       "cases": [
        {
         "code": ">>> (N, Nn, Np)==(20, 6, 14)\nTrue",
         "hidden": false,
         "locked": false,
         "points": 1
        },
        {
         "code": ">>> TPR.shape==(20,) and TNR.shape==(20,) and A.shape==(20,) and Cost.shape==(20,) \nTrue",
         "hidden": false,
         "locked": false,
         "points": 1
        }
       ],
       "scored": true,
       "setup": "",
       "teardown": "",
       "type": "doctest"
      }
     ]
    },
    "q8p2": {
     "name": "q8p2",
     "points": null,
     "suites": [
      {
       "cases": [
        {
         "code": ">>> np.all(np.isclose(TPR,[1., 0.92857143, 0.92857143, 0.92857143, 0.85714286,\n...        0.85714286, 0.85714286, 0.78571429, 0.71428571, 0.64285714,\n...        0.64285714, 0.57142857, 0.57142857, 0.42857143, 0.35714286,\n...        0.28571429, 0.21428571, 0.21428571, 0.14285714, 0.07142857],atol=1e-3))\nTrue",
         "hidden": false,
         "locked": false,
         "points": 2
        },
        {
         "code": ">>> np.all(np.isclose(TNR,[0.        , 0.        , 0.16666667, 0.33333333, 0.33333333,\n...        0.5       , 0.66666667, 0.66666667, 0.66666667, 0.66666667,\n...        0.66666667, 0.83333333, 0.83333333, 0.83333333, 0.83333333,\n...        0.83333333, 0.83333333, 1.        , 1.        , 1.        ],atol=1e-3))\nTrue",
         "hidden": false,
         "locked": false,
         "points": 2
        },
        {
         "code": ">>> np.all(np.isclose(A,[0.7 , 0.65, 0.7 , 0.75, 0.7 , 0.75, 0.8 , 0.75, 0.7 , 0.65, 0.65,\n...        0.65, 0.65, 0.55, 0.5 , 0.45, 0.4 , 0.45, 0.4 , 0.35],atol=1e-3))\nTrue",
         "hidden": false,
         "locked": false,
         "points": 2
        },
        {
         "code": ">>> np.all(np.isclose(Cost,[30., 31., 26., 21., 22., 17., 12., 13., 14., 15., 15., 11., 11.,\n...        13., 14., 15., 16., 11., 12., 13.],atol=1e-3))\nTrue",
         "hidden": false,
         "locked": false,
         "points": 2
        }
       ],
       "scored": true,
       "setup": "",
       "teardown": "",
       "type": "doctest"
      }
     ]
    },
    "q9": {
     "name": "q9",
     "points": null,
     "suites": [
      {
       "cases": [
        {
         "code": ">>> np.isclose(rhoA,0.48578861517266614,1e-3) and np.isclose(Abest,0.8,1e-3)\nTrue",
         "hidden": false,
         "locked": false,
         "points": 1
        }
       ],
       "scored": true,
       "setup": "",
       "teardown": "",
       "type": "doctest"
      }
     ]
    }
   }
  },
  "vscode": {
   "interpreter": {
    "hash": "a3562645294ceb3e94f32aca29fc03cad9e666bc0a1444d24da08109d39c53bf"
   }
  }
 },
 "nbformat": 4,
 "nbformat_minor": 1
}
