{
 "cells": [
  {
   "cell_type": "code",
   "execution_count": 1,
   "id": "9e362e46",
   "metadata": {
    "deletable": false,
    "editable": false
   },
   "outputs": [],
   "source": [
    "# Initialize Otter\n",
    "import otter\n",
    "\n",
    "grader = otter.Notebook(\"hw4.ipynb\")"
   ]
  },
  {
   "cell_type": "markdown",
   "id": "df4b77bb",
   "metadata": {},
   "source": [
    "---\n",
    "\n",
    "<h1><center>SDSE Homework 4 <br><br> Text Classification with Naive Bayes </center></h1>\n",
    "\n",
    "---"
   ]
  },
  {
   "cell_type": "code",
   "execution_count": 2,
   "id": "c0004470",
   "metadata": {
    "execution": {
     "iopub.execute_input": "2022-11-09T16:24:17.673721Z",
     "iopub.status.busy": "2022-11-09T16:24:17.673289Z",
     "iopub.status.idle": "2022-11-09T16:24:18.817762Z",
     "shell.execute_reply": "2022-11-09T16:24:18.816698Z"
    }
   },
   "outputs": [],
   "source": [
    "import numpy as np\n",
    "import matplotlib.pyplot as plt\n",
    "import pickle"
   ]
  },
  {
   "cell_type": "markdown",
   "id": "99d327b1",
   "metadata": {},
   "source": [
    "In this homework we will apply the technique of Naive Bayes classification to the problem of categorizing text-based documents. The dataset that we will work with is a selection of posts from scikit-learn's ['20 newsgroups' dataset](https://scikit-learn.org/stable/datasets/real_world.html#newsgroups-dataset). This dataset contains some 18000 newsgroup posts in 20 different categories, such as politics, autos, electronics, atheism, and hockey. For simplicity, we will focus on just two of the categories: computer graphics and motorcycles.\n",
    "\n",
    "The next cell loads the data from a pickle file. The file contains training data `(Xtrain, ytrain)` and testing data `(Xtest,ytest)`. Each entry in `Xtrain` and `Xtest` is a particular post. The corresponding output in `ytrain` or `ytest` is its category.\n",
    "`categories` is the set of all categories.\n",
    "`vocabulary` is the feature set; i.e. words that will be recognized the model."
   ]
  },
  {
   "cell_type": "markdown",
   "id": "51967039",
   "metadata": {},
   "source": [
    "# 0. Load the data"
   ]
  },
  {
   "cell_type": "code",
   "execution_count": 3,
   "id": "4b53c12b",
   "metadata": {
    "execution": {
     "iopub.execute_input": "2022-11-09T16:24:18.823362Z",
     "iopub.status.busy": "2022-11-09T16:24:18.822920Z",
     "iopub.status.idle": "2022-11-09T16:24:18.973326Z",
     "shell.execute_reply": "2022-11-09T16:24:18.972150Z"
    }
   },
   "outputs": [],
   "source": [
    "with open('hw4_text.pickle','rb') as file:\n",
    "    Xtrain, ytrain, Xtest, ytest, categories, vocabulary = pickle.load(file)"
   ]
  },
  {
   "cell_type": "markdown",
   "id": "c9066763",
   "metadata": {},
   "source": [
    "# 1. Define constants\n",
    "\n",
    "Define the following variables in terms of quantities loaded from the pickle file. \n",
    "+ `N` ... number of documents in the training corpus\n",
    "+ `K` ... number of document categories\n",
    "+ `D` ... number of words in the vocabulary (features)"
   ]
  },
  {
   "cell_type": "code",
   "execution_count": 4,
   "id": "676aeb52",
   "metadata": {
    "execution": {
     "iopub.execute_input": "2022-11-09T16:24:18.980063Z",
     "iopub.status.busy": "2022-11-09T16:24:18.979559Z",
     "iopub.status.idle": "2022-11-09T16:24:18.996285Z",
     "shell.execute_reply": "2022-11-09T16:24:18.995176Z"
    },
    "tags": []
   },
   "outputs": [],
   "source": [
    "N = len(Xtrain)\n",
    "K = len(categories)\n",
    "D = len(vocabulary)"
   ]
  },
  {
   "cell_type": "code",
   "execution_count": 5,
   "id": "542e7d1a",
   "metadata": {
    "deletable": false,
    "editable": false
   },
   "outputs": [
    {
     "data": {
      "text/html": [
       "<p><strong><pre style='display: inline;'>q1</pre></strong> passed! 🌈</p>"
      ],
      "text/plain": [
       "q1 results: All test cases passed!"
      ]
     },
     "execution_count": 5,
     "metadata": {},
     "output_type": "execute_result"
    }
   ],
   "source": [
    "grader.check(\"q1\")"
   ]
  },
  {
   "cell_type": "markdown",
   "id": "e51f7f34",
   "metadata": {},
   "source": [
    "# 2. Find the number of training documents for each category\n",
    "\n",
    "Create a dictionary called `docs_per_category` that stores the number of documents in the training data in each category."
   ]
  },
  {
   "cell_type": "code",
   "execution_count": 6,
   "id": "d33baf3c",
   "metadata": {
    "execution": {
     "iopub.execute_input": "2022-11-09T16:24:19.036956Z",
     "iopub.status.busy": "2022-11-09T16:24:19.036582Z",
     "iopub.status.idle": "2022-11-09T16:24:19.044716Z",
     "shell.execute_reply": "2022-11-09T16:24:19.043748Z"
    },
    "tags": []
   },
   "outputs": [
    {
     "name": "stdout",
     "output_type": "stream",
     "text": [
      "{'rec.motorcycles': 35, 'comp.graphics': 25}\n"
     ]
    }
   ],
   "source": [
    "docs_per_category = dict.fromkeys(categories,0)\n",
    "for category in categories:\n",
    "    for train in ytrain:\n",
    "        if category == train:\n",
    "            docs_per_category[category] = 1 + docs_per_category.get(category, 0)\n",
    "\n",
    "print(docs_per_category)"
   ]
  },
  {
   "cell_type": "code",
   "execution_count": 7,
   "id": "2d33243f",
   "metadata": {
    "deletable": false,
    "editable": false
   },
   "outputs": [
    {
     "data": {
      "text/html": [
       "<p><strong><pre style='display: inline;'>q2</pre></strong> passed! 🌈</p>"
      ],
      "text/plain": [
       "q2 results: All test cases passed!"
      ]
     },
     "execution_count": 7,
     "metadata": {},
     "output_type": "execute_result"
    }
   ],
   "source": [
    "grader.check(\"q2\")"
   ]
  },
  {
   "cell_type": "markdown",
   "id": "955f4821",
   "metadata": {},
   "source": [
    "# 3. Create a bag-of-words representation for each document\n",
    "\n",
    "Our Naive Bayes model will operate on a bag-of-words representation of each document. The first step is to write the `to_bow` method. \n",
    "\n",
    "The arguments for this method are the document as a string and the vocabulary. It should return a set (`bow`) with the unique words that appear in both the document and the vocabulary. The comments in the method provide steps to follow."
   ]
  },
  {
   "cell_type": "code",
   "execution_count": 8,
   "id": "f1072b3e",
   "metadata": {
    "execution": {
     "iopub.execute_input": "2022-11-09T16:24:19.070099Z",
     "iopub.status.busy": "2022-11-09T16:24:19.069744Z",
     "iopub.status.idle": "2022-11-09T16:24:19.077810Z",
     "shell.execute_reply": "2022-11-09T16:24:19.076880Z"
    },
    "tags": []
   },
   "outputs": [],
   "source": [
    "def to_bow(doc,vocabulary):\n",
    "    bow = set()\n",
    "    \n",
    "    # Split `doc` at spaces using the the string's `split` method. Obtain a list.                             \n",
    "    words_list = doc.split(\" \")\n",
    "\n",
    "    # Keep only unique words from the list, by casting it as a set. \n",
    "    word_set = set(words_list)\n",
    "\n",
    "    # From that set, store in bow only the ones that are present in the vocabulary.\n",
    "    bow = word_set.intersection(vocabulary)\n",
    "    \n",
    "    return bow"
   ]
  },
  {
   "cell_type": "code",
   "execution_count": 9,
   "id": "c5e37990",
   "metadata": {
    "execution": {
     "iopub.execute_input": "2022-11-09T16:24:19.082846Z",
     "iopub.status.busy": "2022-11-09T16:24:19.082440Z",
     "iopub.status.idle": "2022-11-09T16:24:19.104839Z",
     "shell.execute_reply": "2022-11-09T16:24:19.103709Z"
    }
   },
   "outputs": [],
   "source": [
    "# Run `to_bow` on every document in `Xtrain`.\n",
    "Xtrain_bow = np.array([to_bow(doc,vocabulary) for doc in Xtrain])"
   ]
  },
  {
   "cell_type": "code",
   "execution_count": 10,
   "id": "4d8e20e5",
   "metadata": {
    "deletable": false,
    "editable": false
   },
   "outputs": [
    {
     "data": {
      "text/html": [
       "<p><strong><pre style='display: inline;'>q3</pre></strong> passed! 🌟</p>"
      ],
      "text/plain": [
       "q3 results: All test cases passed!"
      ]
     },
     "execution_count": 10,
     "metadata": {},
     "output_type": "execute_result"
    }
   ],
   "source": [
    "grader.check(\"q3\")"
   ]
  },
  {
   "cell_type": "markdown",
   "id": "e4a09fc1",
   "metadata": {},
   "source": [
    "# 4. Compute the document count for each word in each category\n",
    "To estimate probabilities for Naive Bayes, we will need to know, for each category and each word, the number of documents of the category that contain the word. Implement the `find_doc_counts_per_word_category` following the steps provided in the code. This function accepts training data (`Xtrain_bow`,` ytrain`), as well as the categories and vocabulary. It produces `doc_counters`, which is a dictionary indexed by category. For each `category`, `doc_counters[category]` is a dictionary indexed by words in the vocabulary. For each `word` in the vocabulary, `doc_counters[category][word]` is the number of documents of that category that contain that word."
   ]
  },
  {
   "cell_type": "code",
   "execution_count": 11,
   "id": "10a19ed9",
   "metadata": {
    "execution": {
     "iopub.execute_input": "2022-11-09T16:24:19.149851Z",
     "iopub.status.busy": "2022-11-09T16:24:19.149456Z",
     "iopub.status.idle": "2022-11-09T16:24:19.159903Z",
     "shell.execute_reply": "2022-11-09T16:24:19.158917Z"
    },
    "tags": []
   },
   "outputs": [],
   "source": [
    "def find_doc_counts_per_word_category(categories,vocabulary,ytrain,Xtrain_bow):\n",
    "\n",
    "    # Initialize doc_counters\n",
    "    doc_counters = dict.fromkeys(categories)\n",
    "    for category in categories:\n",
    "        doc_counters[category]  = dict.fromkeys(vocabulary,0)\n",
    "\n",
    "    # print(doc_counters)\n",
    "    # Loop through categories.\n",
    "    for category in categories:\n",
    "\n",
    "        # Filter Xtrain_bow and keep only the documents of this category\n",
    "        docs_in_category = []\n",
    "        for bow, train_category in zip(Xtrain_bow, ytrain):\n",
    "            if train_category == category:\n",
    "                docs_in_category.append(bow)\n",
    "\n",
    "        # For each document in this category, increment the doc_counter entry for all vocabulary words found in the document.\n",
    "        for docs in docs_in_category:\n",
    "            for word in docs:\n",
    "                doc_counters[category][word] = 1 + doc_counters[category].get(word, 0)\n",
    "\n",
    "    # print(doc_counters)\n",
    "    return doc_counters"
   ]
  },
  {
   "cell_type": "code",
   "execution_count": 12,
   "id": "92e50d46",
   "metadata": {
    "execution": {
     "iopub.execute_input": "2022-11-09T16:24:19.164070Z",
     "iopub.status.busy": "2022-11-09T16:24:19.163596Z",
     "iopub.status.idle": "2022-11-09T16:24:19.172495Z",
     "shell.execute_reply": "2022-11-09T16:24:19.171384Z"
    },
    "tags": []
   },
   "outputs": [],
   "source": [
    "# Run `find_doc_counts_per_word_category`\n",
    "doccount_per_cat_and_word = find_doc_counts_per_word_category(categories,vocabulary,ytrain,Xtrain_bow)"
   ]
  },
  {
   "cell_type": "code",
   "execution_count": 13,
   "id": "53f18892",
   "metadata": {
    "deletable": false,
    "editable": false
   },
   "outputs": [
    {
     "data": {
      "text/html": [
       "<p><strong><pre style='display: inline;'>q4</pre></strong> passed! 🙌</p>"
      ],
      "text/plain": [
       "q4 results: All test cases passed!"
      ]
     },
     "execution_count": 13,
     "metadata": {},
     "output_type": "execute_result"
    }
   ],
   "source": [
    "grader.check(\"q4\")"
   ]
  },
  {
   "cell_type": "markdown",
   "id": "a0b2667d",
   "metadata": {},
   "source": [
    "# 5. Find word frequencies per category\n",
    "\n",
    "Write the `compute_freq` method. This method takes `doccount_per_cat_and_word`, `ytrain` and `alpha` as inputs and computes word and category frequencies.\n",
    "\n",
    "+ Category frequencies `catfreq[category]`: The category frequency for category $k$ is the proportion of all documents that are of class $k$.\n",
    "\n",
    "$$\\rho_k = \\frac{\\text{# documents of category $k$}}{\\text{# documents}}$$\n",
    "\n",
    "+ Word frequencies `wordfreq[category][word]`: The word frequency for a word $d$ and category $k$ is the Laplace-smoothed proportion of the documents of category $k$ that contain word $d$.\n",
    "\n",
    "$$\\rho_{d,k} = \\frac{(\\text{# documents of category $k$ that contain word $d$}) + \\alpha}{(\\text{# documents of category $k$})+\\alpha K}$$\n",
    "\n",
    "Notice that Laplace smoothing is not applied to the category frequencies."
   ]
  },
  {
   "cell_type": "code",
   "execution_count": 14,
   "id": "58d7352b",
   "metadata": {
    "execution": {
     "iopub.execute_input": "2022-11-09T16:24:19.237198Z",
     "iopub.status.busy": "2022-11-09T16:24:19.236877Z",
     "iopub.status.idle": "2022-11-09T16:24:19.248918Z",
     "shell.execute_reply": "2022-11-09T16:24:19.247994Z"
    },
    "tags": []
   },
   "outputs": [],
   "source": [
    "def compute_freq(doccount_per_cat_and_word,ytrain,categories,vocabulary,alpha):\n",
    "\n",
    "    K = len(categories)  # number of categories\n",
    "    D = len(vocabulary)  # number of vocabulary words\n",
    "    N = len(ytrain)      # number of documents\n",
    "\n",
    "    # Compute the number of documents in each category. Store it in the dictionary `ndocs`.\n",
    "    ndocs = dict.fromkeys(categories)\n",
    "    for category in categories:\n",
    "        ndocs[category] = (ytrain == category).sum()\n",
    "\n",
    "    # Compute the category frequenies. For each category, catfreq[category] equals\n",
    "    # the number of documents of that category (ndocs) divided by the total number of documents.\n",
    "    catfreq = dict()\n",
    "    for category, n in ndocs.items():\n",
    "        catfreq[category] = n/len(ytrain)\n",
    "\n",
    "    # Initialize wordfreq\n",
    "    wordfreq = dict.fromkeys(categories)\n",
    "    for category in categories:\n",
    "        wordfreq[category] = dict.fromkeys(vocabulary)\n",
    "    \n",
    "    # Compute wordfreq\n",
    "    # For each category ...\n",
    "    for category in categories:\n",
    "\n",
    "        # the denominator is the number of documents in that category + alpha*K\n",
    "        den = ndocs[category] + alpha*K\n",
    "\n",
    "        # iterate through items in `doccount_per_cat_and_word` to compute\n",
    "        # the word frequency for every category and word.\n",
    "        for word, doccount in doccount_per_cat_and_word[category].items():\n",
    "            # print(word, doccount)\n",
    "            wordfreq[category][word] = (doccount + alpha) / den\n",
    "\n",
    "    return wordfreq, catfreq"
   ]
  },
  {
   "cell_type": "code",
   "execution_count": 15,
   "id": "8630fc73",
   "metadata": {
    "execution": {
     "iopub.execute_input": "2022-11-09T16:24:19.252538Z",
     "iopub.status.busy": "2022-11-09T16:24:19.252038Z",
     "iopub.status.idle": "2022-11-09T16:24:19.257064Z",
     "shell.execute_reply": "2022-11-09T16:24:19.256078Z"
    },
    "tags": []
   },
   "outputs": [],
   "source": [
    "# Run `compute_word_log_freq` with $\\alpha=0.01$.\n",
    "wordfreq, catfreq = compute_freq(doccount_per_cat_and_word,ytrain,categories,vocabulary,0.01)"
   ]
  },
  {
   "cell_type": "code",
   "execution_count": 16,
   "id": "4fa48b14",
   "metadata": {
    "deletable": false,
    "editable": false
   },
   "outputs": [
    {
     "data": {
      "text/html": [
       "<p><strong><pre style='display: inline;'>q5</pre></strong> passed! 🚀</p>"
      ],
      "text/plain": [
       "q5 results: All test cases passed!"
      ]
     },
     "execution_count": 16,
     "metadata": {},
     "output_type": "execute_result"
    }
   ],
   "source": [
    "grader.check(\"q5\")"
   ]
  },
  {
   "cell_type": "markdown",
   "id": "75aaec7d",
   "metadata": {},
   "source": [
    "# 6. Write the Naive Bayes prediction function.\n",
    "\n",
    "Use your Naive Bayes model to predict the category of a given test document `xtest`. \n",
    "\n",
    "The arguments for this method are:\n",
    "+ `xtest`: a single test document as a string.\n",
    "+ `wordfreq`, `catfreq`: the ratios computed in the previous step (with $\\alpha=0.01$)\n",
    "+ ` vocabulary`: The vocabulary.\n",
    "\n",
    "The steps for are:\n",
    "1. Find the BOW representation of `xtest`.\n",
    "\n",
    "2. Use the dictionary `score_cat` to store the score for each of the categories.\n",
    "\n",
    "3. Loop through categories, for each one compute its score with\n",
    "\n",
    "$$\\log\\rho_k+ \\sum_{d:\\:x_d=1} \\log\\rho_{d,k} + \\sum_{d:\\:x_d=0} \\log(1-\\rho_{d,k})$$\n",
    "\n",
    "Here $x_d$ is the $d$'th word in `xtest`\n",
    "\n",
    "4. Return the category with the highest score."
   ]
  },
  {
   "cell_type": "code",
   "execution_count": 17,
   "id": "eb9b1b13",
   "metadata": {
    "execution": {
     "iopub.execute_input": "2022-11-09T16:24:19.441039Z",
     "iopub.status.busy": "2022-11-09T16:24:19.439935Z",
     "iopub.status.idle": "2022-11-09T16:24:19.453468Z",
     "shell.execute_reply": "2022-11-09T16:24:19.452558Z"
    },
    "tags": []
   },
   "outputs": [],
   "source": [
    "def predict(xtest, wordfreq, catfreq, vocabulary):\n",
    "\n",
    "    # 1. Find the BOW representation of Xtest.\n",
    "    Xtest_bow = to_bow(xtest, vocabulary)\n",
    "    # print(Xtest_bow)\n",
    "\n",
    "    # 2. Initialize a dictionary to store the score for each of the categories.\n",
    "    score_cat = dict.fromkeys(categories,0)\n",
    "\n",
    "    # 3. Loop through categories, for each one compute its score, and save it in score_cat.\n",
    "    # This will involve an internal loop over the words in the vocabulary.\n",
    "    for category in categories:\n",
    "        pk = catfreq[category]\n",
    "        score = 0\n",
    "        score += np.log(pk)\n",
    "        for word in vocabulary:\n",
    "            pdk = wordfreq[category][word]\n",
    "            score += np.log(pdk) if word in Xtest_bow else np.log(1 - pdk)\n",
    "\n",
    "        score_cat[category] = score\n",
    "\n",
    "    # 4. Find the category with the highest score.\n",
    "    # print(score_cat)\n",
    "    maxcat = max(score_cat, key = score_cat.get)\n",
    "    # print(maxcat)\n",
    "\n",
    "    return maxcat"
   ]
  },
  {
   "cell_type": "code",
   "execution_count": 18,
   "id": "831efd70",
   "metadata": {
    "deletable": false,
    "editable": false
   },
   "outputs": [
    {
     "data": {
      "text/html": [
       "<p><strong><pre style='display: inline;'>q6</pre></strong> passed! 🎉</p>"
      ],
      "text/plain": [
       "q6 results: All test cases passed!"
      ]
     },
     "execution_count": 18,
     "metadata": {},
     "output_type": "execute_result"
    }
   ],
   "source": [
    "grader.check(\"q6\")"
   ]
  },
  {
   "cell_type": "markdown",
   "id": "43a31fa9",
   "metadata": {},
   "source": [
    "# 7. Compute the accuracy of the model"
   ]
  },
  {
   "cell_type": "markdown",
   "id": "e03d37d8",
   "metadata": {},
   "source": [
    "The function `compute_accuracy` takes a dataset (`X`,`y`), computes predictions using the `predict` function, and computes the accuracy of these predictions with respect to `y`. The accuracy of the model is defined as the number of correct predictions, divided by the total number of predictions."
   ]
  },
  {
   "cell_type": "code",
   "execution_count": 19,
   "id": "89ef5535",
   "metadata": {
    "execution": {
     "iopub.execute_input": "2022-11-09T16:24:20.783417Z",
     "iopub.status.busy": "2022-11-09T16:24:20.783101Z",
     "iopub.status.idle": "2022-11-09T16:24:20.791074Z",
     "shell.execute_reply": "2022-11-09T16:24:20.790332Z"
    },
    "tags": []
   },
   "outputs": [],
   "source": [
    "def compute_accuracy(X, y, wordfreq, catfreq, vocabulary):\n",
    "\n",
    "    # count the number of correct predictions\n",
    "    correct = 0\n",
    "    # print(y)\n",
    "    for i in range(len(X)):\n",
    "        if predict(X[i], wordfreq, catfreq, vocabulary) == y[i]:\n",
    "            correct += 1\n",
    "\n",
    "    # accuracy is the ratio of correct predictions to total predictions.\n",
    "    accuracy = correct / len(y)\n",
    "\n",
    "    return accuracy"
   ]
  },
  {
   "cell_type": "code",
   "execution_count": 20,
   "id": "10e93612",
   "metadata": {
    "deletable": false,
    "editable": false
   },
   "outputs": [
    {
     "data": {
      "text/html": [
       "<p><strong><pre style='display: inline;'>q7</pre></strong> passed! ✨</p>"
      ],
      "text/plain": [
       "q7 results: All test cases passed!"
      ]
     },
     "execution_count": 20,
     "metadata": {},
     "output_type": "execute_result"
    }
   ],
   "source": [
    "grader.check(\"q7\")"
   ]
  },
  {
   "cell_type": "markdown",
   "id": "77c5c731",
   "metadata": {},
   "source": [
    "# 8. Compute the training and testing errors for a range of $\\alpha$ (the Laplace smoothing parameter)"
   ]
  },
  {
   "cell_type": "markdown",
   "id": "c1027317",
   "metadata": {},
   "source": [
    "## 8.1. Train the model and compute its test accuracy for logarithmically spaced values of $\\alpha$ ranging from $10^{-3}$ to $10^1$\n",
    "\n",
    "Here 'training the model' means computing the Laplace-smoothed document frequencies with `compute_freq`. Do this for the given range of $\\alpha$'s and store their corresponding accuracies.\n",
    "\n",
    "Python's `enumerate` method can be used to produce both indices (`i`) and values (`alpha`) when iterating through `alphas`."
   ]
  },
  {
   "cell_type": "code",
   "execution_count": 21,
   "id": "3a78cede",
   "metadata": {
    "execution": {
     "iopub.execute_input": "2022-11-09T16:24:22.233233Z",
     "iopub.status.busy": "2022-11-09T16:24:22.232526Z",
     "iopub.status.idle": "2022-11-09T16:24:52.662885Z",
     "shell.execute_reply": "2022-11-09T16:24:52.661932Z"
    },
    "tags": []
   },
   "outputs": [],
   "source": [
    "alphas = np.logspace(-3,1,20)\n",
    "acc = np.empty(len(alphas))\n",
    "for i, alpha in enumerate(alphas):\n",
    "    wordfreq, catfreq = compute_freq(doccount_per_cat_and_word,ytrain,categories,vocabulary,alpha)\n",
    "    acc[i] = compute_accuracy(Xtest, ytest, wordfreq, catfreq, vocabulary)"
   ]
  },
  {
   "cell_type": "code",
   "execution_count": 22,
   "id": "c9ddf8d7",
   "metadata": {
    "deletable": false,
    "editable": false
   },
   "outputs": [
    {
     "data": {
      "text/html": [
       "<p><strong><pre style='display: inline;'>q8p1</pre></strong> passed! 🌈</p>"
      ],
      "text/plain": [
       "q8p1 results: All test cases passed!"
      ]
     },
     "execution_count": 22,
     "metadata": {},
     "output_type": "execute_result"
    }
   ],
   "source": [
    "grader.check(\"q8p1\")"
   ]
  },
  {
   "cell_type": "markdown",
   "id": "ce469a2e",
   "metadata": {},
   "source": [
    "## 8.2. Plot the accuracies as a function of $\\alpha$ using `plt.semilogx`"
   ]
  },
  {
   "cell_type": "code",
   "execution_count": 23,
   "id": "65293847",
   "metadata": {
    "execution": {
     "iopub.execute_input": "2022-11-09T16:24:52.688010Z",
     "iopub.status.busy": "2022-11-09T16:24:52.687727Z",
     "iopub.status.idle": "2022-11-09T16:24:53.522797Z",
     "shell.execute_reply": "2022-11-09T16:24:53.521803Z"
    },
    "tags": []
   },
   "outputs": [
    {
     "data": {
      "image/png": "[encoded data removed]",
      "text/plain": [
       "<Figure size 640x480 with 1 Axes>"
      ]
     },
     "metadata": {},
     "output_type": "display_data"
    }
   ],
   "source": [
    "plt.figure()\n",
    "plt.semilogx(alphas, acc)\n",
    "plt.xlabel('alpha')\n",
    "plt.ylabel('accuracy')\n",
    "plt.grid()"
   ]
  },
  {
   "cell_type": "markdown",
   "id": "8bc880a4",
   "metadata": {},
   "source": [
    "## 8.3. Find the optimal $\\alpha$ and its corresponding accuracy?  [Hint](https://numpy.org/doc/stable/reference/generated/numpy.argmax.html)"
   ]
  },
  {
   "cell_type": "code",
   "execution_count": 24,
   "id": "87d37e9e",
   "metadata": {
    "execution": {
     "iopub.execute_input": "2022-11-09T16:24:53.530436Z",
     "iopub.status.busy": "2022-11-09T16:24:53.529971Z",
     "iopub.status.idle": "2022-11-09T16:24:53.537348Z",
     "shell.execute_reply": "2022-11-09T16:24:53.536541Z"
    },
    "tags": []
   },
   "outputs": [
    {
     "data": {
      "text/plain": [
       "(0.8736842105263158, 0.3359818286283781)"
      ]
     },
     "execution_count": 24,
     "metadata": {},
     "output_type": "execute_result"
    }
   ],
   "source": [
    "bestind = np.argmax(acc)\n",
    "best_acc = acc[bestind]\n",
    "best_alpha = alphas[bestind]\n",
    "best_acc, best_alpha"
   ]
  },
  {
   "cell_type": "code",
   "execution_count": 25,
   "id": "8ab7c3f6",
   "metadata": {
    "deletable": false,
    "editable": false
   },
   "outputs": [
    {
     "data": {
      "text/html": [
       "<p><strong><pre style='display: inline;'>q8p3</pre></strong> passed! ✨</p>"
      ],
      "text/plain": [
       "q8p3 results: All test cases passed!"
      ]
     },
     "execution_count": 25,
     "metadata": {},
     "output_type": "execute_result"
    }
   ],
   "source": [
    "grader.check(\"q8p3\")"
   ]
  },
  {
   "cell_type": "markdown",
   "id": "f745fe84",
   "metadata": {
    "deletable": false,
    "editable": false
   },
   "source": [
    "## Submission\n",
    "\n",
    "Make sure you have run all cells in your notebook in order before running the cell below, so that all images/graphs appear in the output. The cell below will generate a zip file for you to submit. **Please save before exporting!**"
   ]
  },
  {
   "cell_type": "code",
   "execution_count": 26,
   "id": "8c24c0e4",
   "metadata": {
    "deletable": false,
    "editable": false
   },
   "outputs": [
    {
     "data": {
      "text/html": [
       "\n",
       "            <p>Your submission has been exported. Click <a href=\"hw4_2022_11_18T22_15_50_570879.zip\" download=\"hw4_2022_11_18T22_15_50_570879.zip\" target=\"_blank\">here</a>\n",
       "            to download the zip file.</p>\n",
       "            "
      ],
      "text/plain": [
       "<IPython.core.display.HTML object>"
      ]
     },
     "metadata": {},
     "output_type": "display_data"
    }
   ],
   "source": [
    "# Save your notebook first, then run this cell to export your submission.\n",
    "grader.export(pdf=False)"
   ]
  },
  {
   "cell_type": "markdown",
   "id": "1b336cfd",
   "metadata": {},
   "source": [
    " "
   ]
  }
 ],
 "metadata": {
  "kernelspec": {
   "display_name": "Python 3.9.13 ('sdse')",
   "language": "python",
   "name": "python3"
  },
  "language_info": {
   "codemirror_mode": {
    "name": "ipython",
    "version": 3
   },
   "file_extension": ".py",
   "mimetype": "text/x-python",
   "name": "python",
   "nbconvert_exporter": "python",
   "pygments_lexer": "ipython3",
   "version": "3.9.13 | packaged by conda-forge | (main, May 27 2022, 17:00:52) \n[Clang 13.0.1 ]"
  },
  "otter": {
   "OK_FORMAT": true,
   "tests": {
    "q1": {
     "name": "q1",
     "points": null,
     "suites": [
      {
       "cases": [
        {
         "code": ">>> N==60\nTrue",
         "hidden": false,
         "locked": false,
         "points": 1
        },
        {
         "code": ">>> K==2\nTrue",
         "hidden": false,
         "locked": false,
         "points": 1
        },
        {
         "code": ">>> D==548\nTrue",
         "hidden": false,
         "locked": false,
         "points": 1
        }
       ],
       "scored": true,
       "setup": "",
       "teardown": "",
       "type": "doctest"
      }
     ]
    },
    "q2": {
     "name": "q2",
     "points": null,
     "suites": [
      {
       "cases": [
        {
         "code": ">>> docs_per_category['rec.motorcycles']==35\nTrue",
         "hidden": false,
         "locked": false,
         "points": 2
        },
        {
         "code": ">>> docs_per_category['comp.graphics']==25\nTrue",
         "hidden": false,
         "locked": false,
         "points": 2
        }
       ],
       "scored": true,
       "setup": "",
       "teardown": "",
       "type": "doctest"
      }
     ]
    },
    "q3": {
     "name": "q3",
     "points": null,
     "suites": [
      {
       "cases": [
        {
         "code": ">>> Xtrain_bow[23]=={'a',\n...                  'and',\n...                  'answer',\n...                  'bad',\n...                  'but',\n...                  'find',\n...                  'for',\n...                  'here',\n...                  'i',\n...                  'if',\n...                  'in',\n...                  'is',\n...                  'it',\n...                  'maybe',\n...                  'my',\n...                  'not',\n...                  'of',\n...                  'posting',\n...                  'sorry',\n...                  'the',\n...                  'thing',\n...                  'this',\n...                  'try',\n...                  'use',\n...                  'will',\n...                  'work',\n...                  'your'}\nTrue",
         "hidden": false,
         "locked": false
        },
        {
         "code": ">>> Xtrain_bow[34]=={'a',\n...                  'about',\n...                  'an',\n...                  'and',\n...                  'are',\n...                  'be',\n...                  'by',\n...                  'can',\n...                  'do',\n...                  'down',\n...                  'exhaust',\n...                  'for',\n...                  'gas',\n...                  'guess',\n...                  'have',\n...                  'i',\n...                  'in',\n...                  'is',\n...                  'like',\n...                  'line',\n...                  'may',\n...                  'not',\n...                  'on',\n...                  'only',\n...                  'out',\n...                  'really',\n...                  'seems',\n...                  'some',\n...                  'that',\n...                  'the',\n...                  'think',\n...                  'to',\n...                  'understand',\n...                  'we',\n...                  'will',\n...                  'would'}\nTrue",
         "hidden": false,
         "locked": false,
         "points": 3
        },
        {
         "code": ">>> bag_sizes = np.array([len(Xtrain_bow[i]) for i in range(len(Xtrain_bow))])\n>>> np.all(bag_sizes == np.array([38, 40, 41, 40, 38, 32, 25, 38, 33, 45, 34, 36, 42, 30, 48, 36, 38,\n...                               34, 56, 31, 35, 35, 29, 27, 41, 44, 29, 41, 43, 38, 40, 45, 28, 35,\n...                               36, 17, 38, 47, 34, 45, 32, 48, 48, 40, 48, 40, 53, 34, 32, 39, 31,\n...                               39, 45, 57, 40, 26, 37, 36, 38, 33]))\nTrue",
         "hidden": false,
         "locked": false,
         "points": 3
        }
       ],
       "scored": true,
       "setup": "",
       "teardown": "",
       "type": "doctest"
      }
     ]
    },
    "q4": {
     "name": "q4",
     "points": null,
     "suites": [
      {
       "cases": [
        {
         "code": ">>> doccount_per_cat_and_word['rec.motorcycles']['maybe']==1\nTrue",
         "hidden": false,
         "locked": false
        },
        {
         "code": ">>> doccount_per_cat_and_word['comp.graphics']['each']==1\nTrue",
         "hidden": false,
         "locked": false
        },
        {
         "code": ">>> doccount_per_cat_and_word['comp.graphics']['animation']==2\nTrue",
         "hidden": false,
         "locked": false
        },
        {
         "code": ">>> doccount_per_cat_and_word = find_doc_counts_per_word_category(categories,vocabulary,ytrain,Xtrain_bow)\n>>> testwords = ['according','between','could','explain','harley','miles','source','wondering']\n>>> [doccount_per_cat_and_word['comp.graphics'][word] for word in testwords]==[1, 2, 3, 1, 0, 0, 1, 1]\nTrue",
         "hidden": false,
         "locked": false,
         "points": 3
        },
        {
         "code": ">>> doccount_per_cat_and_word = find_doc_counts_per_word_category(categories,vocabulary,ytrain,Xtrain_bow)\n>>> testwords = ['according','between','could','explain','harley','miles','source','wondering']\n>>> [doccount_per_cat_and_word['rec.motorcycles'][word] for word in testwords]==[2, 1, 3, 0, 3, 0, 0, 0]\nTrue",
         "hidden": false,
         "locked": false,
         "points": 3
        }
       ],
       "scored": true,
       "setup": "",
       "teardown": "",
       "type": "doctest"
      }
     ]
    },
    "q5": {
     "name": "q5",
     "points": null,
     "suites": [
      {
       "cases": [
        {
         "code": ">>> np.isclose(wordfreq['rec.motorcycles']['simply'],  0.028840662478583665, atol=1e-2)\nTrue",
         "hidden": false,
         "locked": false
        },
        {
         "code": ">>> np.isclose(wordfreq['rec.motorcycles']['wondering'], 0.00028555111364934324, atol=1e-2)\nTrue",
         "hidden": false,
         "locked": false
        },
        {
         "code": ">>> np.isclose(wordfreq['rec.motorcycles']['sun'], 0.028840662478583665, atol=1e-2)\nTrue",
         "hidden": false,
         "locked": false
        },
        {
         "code": ">>> np.isclose(wordfreq['comp.graphics']['video'],0.12030375699440447, atol=1e-2)\nTrue",
         "hidden": false,
         "locked": false
        },
        {
         "code": ">>> np.isclose(wordfreq['comp.graphics']['when'], 0.12030375699440447, atol=1e-2)\nTrue",
         "hidden": false,
         "locked": false
        },
        {
         "code": ">>> np.isclose(wordfreq['comp.graphics']['ftp'], 0.0003996802557953637, atol=1e-2)\nTrue",
         "hidden": false,
         "locked": false
        },
        {
         "code": ">>> np.isclose(catfreq['rec.motorcycles'], 0.5833333333333334, atol=1e-2)\nTrue",
         "hidden": false,
         "locked": false
        },
        {
         "code": ">>> wordfreq, catfreq = compute_freq(doccount_per_cat_and_word,ytrain,categories,vocabulary,0.01)\n>>> np.isclose(catfreq['comp.graphics'], 0.4166666666666667, atol=1e-2) \nTrue",
         "hidden": false,
         "locked": false,
         "points": 2
        },
        {
         "code": ">>> wordfreq, catfreq = compute_freq(doccount_per_cat_and_word,ytrain,categories,vocabulary,0.01)\n>>> testwords = ['according','between','could','explain','harley','miles','source','wondering']\n>>> np.all(np.isclose([wordfreq['rec.motorcycles'][word] for word in testwords] ,\n...        [0.05739577384351798,\n...  0.028840662478583665,\n...  0.0859508852084523,\n...  0.00028555111364934324,\n...  0.0859508852084523,\n...  0.00028555111364934324,\n...  0.00028555111364934324,\n...  0.00028555111364934324]   , atol=1e-2))\nTrue",
         "hidden": false,
         "locked": false,
         "points": 3
        },
        {
         "code": ">>> testwords = ['according','between','could','explain','harley','miles','source','wondering']\n>>> np.all(np.isclose([wordfreq['comp.graphics'][word] for word in testwords],\n...                   [0.04036770583533174,\n...  0.08033573141486809,\n...  0.12030375699440447,\n...  0.04036770583533174,\n...  0.0003996802557953637,\n...  0.0003996802557953637,\n...  0.04036770583533174,\n...  0.04036770583533174], atol=1e-2))\nTrue",
         "hidden": false,
         "locked": false,
         "points": 0
        }
       ],
       "scored": true,
       "setup": "",
       "teardown": "",
       "type": "doctest"
      }
     ]
    },
    "q6": {
     "name": "q6",
     "points": null,
     "suites": [
      {
       "cases": [
        {
         "code": ">>> predict(Xtest[0], wordfreq, catfreq, vocabulary)=='rec.motorcycles'\nTrue",
         "hidden": false,
         "locked": false
        },
        {
         "code": ">>> predict(Xtest[13], wordfreq, catfreq, vocabulary)=='rec.motorcycles'\nTrue",
         "hidden": false,
         "locked": false
        },
        {
         "code": ">>> predict(Xtest[14], wordfreq, catfreq, vocabulary)=='rec.motorcycles'\nTrue",
         "hidden": false,
         "locked": false
        },
        {
         "code": ">>> \n>>> allpred = [predict(Xt, wordfreq, catfreq, vocabulary) for Xt in Xtest]\n>>> allpred[20:50:2]==['rec.motorcycles',\n...  'rec.motorcycles',\n...  'rec.motorcycles',\n...  'rec.motorcycles',\n...  'rec.motorcycles',\n...  'comp.graphics',\n...  'comp.graphics',\n...  'rec.motorcycles',\n...  'comp.graphics',\n...  'rec.motorcycles',\n...  'rec.motorcycles',\n...  'comp.graphics',\n...  'rec.motorcycles',\n...  'comp.graphics',\n...  'rec.motorcycles']\nTrue",
         "hidden": false,
         "locked": false,
         "points": 4
        }
       ],
       "scored": true,
       "setup": "",
       "teardown": "",
       "type": "doctest"
      }
     ]
    },
    "q7": {
     "name": "q7",
     "points": null,
     "suites": [
      {
       "cases": [
        {
         "code": ">>> np.isclose(compute_accuracy(Xtrain, ytrain, wordfreq, catfreq, vocabulary),1.0,atol=1e-3)\nTrue",
         "hidden": false,
         "locked": false,
         "points": 2
        },
        {
         "code": ">>> np.isclose(compute_accuracy(Xtest, ytest, wordfreq, catfreq, vocabulary),0.8543859649122807,atol=1e-3)\nTrue",
         "hidden": false,
         "locked": false
        }
       ],
       "scored": true,
       "setup": "",
       "teardown": "",
       "type": "doctest"
      }
     ]
    },
    "q8p1": {
     "name": "q8p1",
     "points": null,
     "suites": [
      {
       "cases": [
        {
         "code": ">>> np.all(np.isclose(acc[:3],[0.84912281, 0.84912281, 0.85087719])) \nTrue",
         "hidden": false,
         "locked": false
        },
        {
         "code": ">>> np.all(np.isclose(acc,[0.84912281, 0.84912281, 0.85087719, 0.85263158, 0.85438596,\n...        0.85438596, 0.85789474, 0.85789474, 0.85789474, 0.86140351,\n...        0.86666667, 0.87017544, 0.87368421, 0.85614035, 0.80701754,\n...        0.71052632, 0.63157895, 0.61754386, 0.60877193, 0.60175439],atol=1e-3))\nTrue",
         "hidden": false,
         "locked": false,
         "points": 3
        }
       ],
       "scored": true,
       "setup": "",
       "teardown": "",
       "type": "doctest"
      }
     ]
    },
    "q8p3": {
     "name": "q8p3",
     "points": null,
     "suites": [
      {
       "cases": [
        {
         "code": ">>> np.isclose(best_acc,0.8736842105263158,atol=1e-2)\nTrue",
         "hidden": false,
         "locked": false,
         "points": 2
        },
        {
         "code": ">>> np.isclose(best_alpha,0.3359818286283781,atol=1e-2)\nTrue",
         "hidden": false,
         "locked": false,
         "points": 2
        }
       ],
       "scored": true,
       "setup": "",
       "teardown": "",
       "type": "doctest"
      }
     ]
    }
   }
  },
  "vscode": {
   "interpreter": {
    "hash": "a3562645294ceb3e94f32aca29fc03cad9e666bc0a1444d24da08109d39c53bf"
   }
  }
 },
 "nbformat": 4,
 "nbformat_minor": 5
}
