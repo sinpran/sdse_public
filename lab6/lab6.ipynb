{
 "cells": [
  {
   "cell_type": "code",
   "execution_count": 1,
   "metadata": {
    "deletable": false,
    "editable": false
   },
   "outputs": [],
   "source": [
    "# Initialize Otter\n",
    "import otter\n",
    "grader = otter.Notebook(\"lab6.ipynb\")"
   ]
  },
  {
   "cell_type": "markdown",
   "metadata": {},
   "source": [
    "---\n",
    "\n",
    "<h1><center>SDSE Lab 6 <br><br> Ensemble methods and hyperparameter tuning </center></h1>\n",
    "\n",
    "---\n",
    "\n",
    "\n"
   ]
  },
  {
   "cell_type": "markdown",
   "metadata": {},
   "source": [
    "In this lab exercise we will apply several classification models to a problem in astrophysics. The problem is described [here](https://satyam5120.medium.com/predicting-a-pulsar-star-using-different-machine-learning-algorithms-d22ee8fc71b4) and [here](https://www.kaggle.com/datasets/colearninglounge/predicting-pulsar-starintermediate). It consists in labeling observations of space objects as either pulsars or not pulsars, based on the properties of an 'integrated profile' and on the DM-SNR curve. The dataset has 8 feature columns:\n",
    "1. Mean of the integrated profile.\n",
    "2. Standard deviation of the integrated profile.\n",
    "3. Excess kurtosis of the integrated profile.\n",
    "4. Skewness of the integrated profile.\n",
    "5. Mean of the DM-SNR curve.\n",
    "6. Standard deviation of the DM-SNR curve.\n",
    "7. Excess kurtosis of the DM-SNR curve.\n",
    "8. Skewness of the DM-SNR curve.\n",
    "\n",
    "Our goal is to choose a classification model from amongst the ones we've learned in class. The procedure will follow these steps:\n",
    "1. Load the data.\n",
    "2. Remove columns with null values.\n",
    "3. Visually inspect histograms, box plots, and the correlation matrix.\n",
    "4. Extract a test dataset.\n",
    "5. Build models:\n",
    "    + Logistic regression\n",
    "        + Training\n",
    "        + Hyperparameter tuning\n",
    "    + Support vector machine\n",
    "    + Random forest\n",
    "    + AdaBoost\n",
    "    + Gradient Boosted Trees\n",
    "10. Select and evaluate a final model."
   ]
  },
  {
   "cell_type": "code",
   "execution_count": 2,
   "metadata": {
    "execution": {
     "iopub.execute_input": "2022-11-14T21:57:00.006298Z",
     "iopub.status.busy": "2022-11-14T21:57:00.005581Z",
     "iopub.status.idle": "2022-11-14T21:57:01.295981Z",
     "shell.execute_reply": "2022-11-14T21:57:01.294646Z"
    }
   },
   "outputs": [],
   "source": [
    "import numpy as np\n",
    "import pandas as pd\n",
    "import matplotlib.pyplot as plt\n",
    "import lab6_utils as lab6\n",
    "rng_seed = 2434"
   ]
  },
  {
   "cell_type": "markdown",
   "metadata": {},
   "source": [
    "# 1. Load the data\n",
    "\n",
    "+ Load the data file `pulsar_data_train.csv` into a Pandas dataframe using [`pd.read_csv`](https://pandas.pydata.org/docs/reference/api/pandas.read_csv.html)\n",
    "+ Save the column headers corresponding to feature names to the variable `feature_names` ([Hint](https://pandas.pydata.org/docs/reference/api/pandas.DataFrame.columns.html))"
   ]
  },
  {
   "cell_type": "code",
   "execution_count": 3,
   "metadata": {
    "execution": {
     "iopub.execute_input": "2022-11-14T21:57:01.302100Z",
     "iopub.status.busy": "2022-11-14T21:57:01.301614Z",
     "iopub.status.idle": "2022-11-14T21:57:01.353780Z",
     "shell.execute_reply": "2022-11-14T21:57:01.352372Z"
    },
    "tags": []
   },
   "outputs": [],
   "source": [
    "df = pd.read_csv('pulsar_data.csv')\n",
    "feature_names = df.columns.values[:-1]"
   ]
  },
  {
   "cell_type": "code",
   "execution_count": 4,
   "metadata": {
    "deletable": false,
    "editable": false
   },
   "outputs": [
    {
     "data": {
      "text/html": [
       "<p><strong><pre style='display: inline;'>q1</pre></strong> passed! 🙌</p>"
      ],
      "text/plain": [
       "q1 results: All test cases passed!"
      ]
     },
     "execution_count": 4,
     "metadata": {},
     "output_type": "execute_result"
    }
   ],
   "source": [
    "grader.check(\"q1\")"
   ]
  },
  {
   "cell_type": "markdown",
   "metadata": {},
   "source": [
    "# 2. Remove null values\n",
    "\n",
    "+ Save the number of nulls in each column into a dictionary called `numnulls_in_feature`. This dictionary has been initialized for you with the feature names as keys, and all values set to 0.\n",
    "+ Remove from the DataFrame all columns (other than the `target_class` column) with more than zero null values. \n",
    "+ Also remove these names from `feature_names`."
   ]
  },
  {
   "cell_type": "code",
   "execution_count": 5,
   "metadata": {
    "execution": {
     "iopub.execute_input": "2022-11-14T21:57:01.428748Z",
     "iopub.status.busy": "2022-11-14T21:57:01.428250Z",
     "iopub.status.idle": "2022-11-14T21:57:01.455416Z",
     "shell.execute_reply": "2022-11-14T21:57:01.454172Z"
    },
    "tags": []
   },
   "outputs": [
    {
     "name": "stdout",
     "output_type": "stream",
     "text": [
      "<class 'pandas.core.frame.DataFrame'>\n",
      "RangeIndex: 12528 entries, 0 to 12527\n",
      "Data columns (total 9 columns):\n",
      " #   Column                                         Non-Null Count  Dtype  \n",
      "---  ------                                         --------------  -----  \n",
      " 0    Mean of the integrated profile                12528 non-null  float64\n",
      " 1    Standard deviation of the integrated profile  12528 non-null  float64\n",
      " 2    Excess kurtosis of the integrated profile     10793 non-null  float64\n",
      " 3    Skewness of the integrated profile            12528 non-null  float64\n",
      " 4    Mean of the DM-SNR curve                      12528 non-null  float64\n",
      " 5    Standard deviation of the DM-SNR curve        11350 non-null  float64\n",
      " 6    Excess kurtosis of the DM-SNR curve           12528 non-null  float64\n",
      " 7    Skewness of the DM-SNR curve                  11903 non-null  float64\n",
      " 8   target_class                                   12528 non-null  float64\n",
      "dtypes: float64(9)\n",
      "memory usage: 881.0 KB\n"
     ]
    }
   ],
   "source": [
    "df.info()\n",
    "numnulls_in_feature = dict().fromkeys(feature_names)\n",
    "for feature in numnulls_in_feature:\n",
    "    numnulls_in_feature[feature] = sum(df[feature].isnull())\n",
    "df = df.dropna(axis = 1, thresh=df.shape[0])\n",
    "feature_names = df.columns.values[:-1]"
   ]
  },
  {
   "cell_type": "code",
   "execution_count": 6,
   "metadata": {
    "deletable": false,
    "editable": false
   },
   "outputs": [
    {
     "data": {
      "text/html": [
       "<p><strong><pre style='display: inline;'>q2</pre></strong> passed! 💯</p>"
      ],
      "text/plain": [
       "q2 results: All test cases passed!"
      ]
     },
     "execution_count": 6,
     "metadata": {},
     "output_type": "execute_result"
    }
   ],
   "source": [
    "grader.check(\"q2\")"
   ]
  },
  {
   "cell_type": "markdown",
   "metadata": {},
   "source": [
    "# 3. Number of samples per class\n",
    "\n",
    "Find the number of data points in each of the two classes. Save the number of class 0 data and class 1 data to `N0` and `N1` respectively. Notice that there is a significant imbalance of negative and positive samples in this dataset. "
   ]
  },
  {
   "cell_type": "code",
   "execution_count": 7,
   "metadata": {
    "execution": {
     "iopub.execute_input": "2022-11-14T21:57:01.484525Z",
     "iopub.status.busy": "2022-11-14T21:57:01.484186Z",
     "iopub.status.idle": "2022-11-14T21:57:01.494813Z",
     "shell.execute_reply": "2022-11-14T21:57:01.493629Z"
    },
    "tags": []
   },
   "outputs": [],
   "source": [
    "# print(sum(df['target_class'] == 1))\n",
    "N0 = sum(df['target_class'] == 0)\n",
    "N1 = sum(df['target_class'] == 1)"
   ]
  },
  {
   "cell_type": "code",
   "execution_count": 8,
   "metadata": {
    "deletable": false,
    "editable": false
   },
   "outputs": [
    {
     "data": {
      "text/html": [
       "<p><strong><pre style='display: inline;'>q3</pre></strong> passed! 🌈</p>"
      ],
      "text/plain": [
       "q3 results: All test cases passed!"
      ]
     },
     "execution_count": 8,
     "metadata": {},
     "output_type": "execute_result"
    }
   ],
   "source": [
    "grader.check(\"q3\")"
   ]
  },
  {
   "cell_type": "markdown",
   "metadata": {},
   "source": [
    "# 4. Extracting the test dataset\n",
    "\n",
    "Split the dataset contained in `df` into trainging and testing parts, with 90% used for training and 10% for testing. Remember to set the `random_state` to `rng_seed`."
   ]
  },
  {
   "cell_type": "code",
   "execution_count": 9,
   "metadata": {
    "execution": {
     "iopub.execute_input": "2022-11-14T21:57:01.520946Z",
     "iopub.status.busy": "2022-11-14T21:57:01.520647Z",
     "iopub.status.idle": "2022-11-14T21:57:02.099644Z",
     "shell.execute_reply": "2022-11-14T21:57:02.098114Z"
    },
    "tags": []
   },
   "outputs": [],
   "source": [
    "from sklearn.model_selection import train_test_split\n",
    "Xtrain, Xtest, ytrain, ytest = train_test_split(df.iloc[:,:-1], df['target_class'], test_size=0.1, random_state=rng_seed)"
   ]
  },
  {
   "cell_type": "code",
   "execution_count": 10,
   "metadata": {
    "deletable": false,
    "editable": false
   },
   "outputs": [
    {
     "data": {
      "text/html": [
       "<p><strong><pre style='display: inline;'>q4</pre></strong> passed! 🌈</p>"
      ],
      "text/plain": [
       "q4 results: All test cases passed!"
      ]
     },
     "execution_count": 10,
     "metadata": {},
     "output_type": "execute_result"
    }
   ],
   "source": [
    "grader.check(\"q4\")"
   ]
  },
  {
   "cell_type": "markdown",
   "metadata": {},
   "source": [
    "# 5. Models\n",
    "\n",
    "## 5.1 Logistic regression "
   ]
  },
  {
   "cell_type": "markdown",
   "metadata": {},
   "source": [
    "### 5.1.1. Training\n",
    "\n",
    "In this part we will use grid search to choose the values of the hyperparameters of the logistic regression pipeline. Begin by creating a pipeline with a `StandardScaler` followed by `LogisticRegression` classifier. Pass these parameters to the contructor of the logistic regression classifier:\n",
    "+ `solver`: `liblinear`\n",
    "+ `random_state`: `rng_seed`\n",
    "\n",
    "Then fit the model using the training data."
   ]
  },
  {
   "cell_type": "code",
   "execution_count": 11,
   "metadata": {
    "execution": {
     "iopub.execute_input": "2022-11-14T21:57:02.144257Z",
     "iopub.status.busy": "2022-11-14T21:57:02.143911Z",
     "iopub.status.idle": "2022-11-14T21:57:02.203512Z",
     "shell.execute_reply": "2022-11-14T21:57:02.202404Z"
    },
    "tags": []
   },
   "outputs": [
    {
     "data": {
      "text/html": [
       "<style>#sk-container-id-1 {color: black;background-color: white;}#sk-container-id-1 pre{padding: 0;}#sk-container-id-1 div.sk-toggleable {background-color: white;}#sk-container-id-1 label.sk-toggleable__label {cursor: pointer;display: block;width: 100%;margin-bottom: 0;padding: 0.3em;box-sizing: border-box;text-align: center;}#sk-container-id-1 label.sk-toggleable__label-arrow:before {content: \"▸\";float: left;margin-right: 0.25em;color: #696969;}#sk-container-id-1 label.sk-toggleable__label-arrow:hover:before {color: black;}#sk-container-id-1 div.sk-estimator:hover label.sk-toggleable__label-arrow:before {color: black;}#sk-container-id-1 div.sk-toggleable__content {max-height: 0;max-width: 0;overflow: hidden;text-align: left;background-color: #f0f8ff;}#sk-container-id-1 div.sk-toggleable__content pre {margin: 0.2em;color: black;border-radius: 0.25em;background-color: #f0f8ff;}#sk-container-id-1 input.sk-toggleable__control:checked~div.sk-toggleable__content {max-height: 200px;max-width: 100%;overflow: auto;}#sk-container-id-1 input.sk-toggleable__control:checked~label.sk-toggleable__label-arrow:before {content: \"▾\";}#sk-container-id-1 div.sk-estimator input.sk-toggleable__control:checked~label.sk-toggleable__label {background-color: #d4ebff;}#sk-container-id-1 div.sk-label input.sk-toggleable__control:checked~label.sk-toggleable__label {background-color: #d4ebff;}#sk-container-id-1 input.sk-hidden--visually {border: 0;clip: rect(1px 1px 1px 1px);clip: rect(1px, 1px, 1px, 1px);height: 1px;margin: -1px;overflow: hidden;padding: 0;position: absolute;width: 1px;}#sk-container-id-1 div.sk-estimator {font-family: monospace;background-color: #f0f8ff;border: 1px dotted black;border-radius: 0.25em;box-sizing: border-box;margin-bottom: 0.5em;}#sk-container-id-1 div.sk-estimator:hover {background-color: #d4ebff;}#sk-container-id-1 div.sk-parallel-item::after {content: \"\";width: 100%;border-bottom: 1px solid gray;flex-grow: 1;}#sk-container-id-1 div.sk-label:hover label.sk-toggleable__label {background-color: #d4ebff;}#sk-container-id-1 div.sk-serial::before {content: \"\";position: absolute;border-left: 1px solid gray;box-sizing: border-box;top: 0;bottom: 0;left: 50%;z-index: 0;}#sk-container-id-1 div.sk-serial {display: flex;flex-direction: column;align-items: center;background-color: white;padding-right: 0.2em;padding-left: 0.2em;position: relative;}#sk-container-id-1 div.sk-item {position: relative;z-index: 1;}#sk-container-id-1 div.sk-parallel {display: flex;align-items: stretch;justify-content: center;background-color: white;position: relative;}#sk-container-id-1 div.sk-item::before, #sk-container-id-1 div.sk-parallel-item::before {content: \"\";position: absolute;border-left: 1px solid gray;box-sizing: border-box;top: 0;bottom: 0;left: 50%;z-index: -1;}#sk-container-id-1 div.sk-parallel-item {display: flex;flex-direction: column;z-index: 1;position: relative;background-color: white;}#sk-container-id-1 div.sk-parallel-item:first-child::after {align-self: flex-end;width: 50%;}#sk-container-id-1 div.sk-parallel-item:last-child::after {align-self: flex-start;width: 50%;}#sk-container-id-1 div.sk-parallel-item:only-child::after {width: 0;}#sk-container-id-1 div.sk-dashed-wrapped {border: 1px dashed gray;margin: 0 0.4em 0.5em 0.4em;box-sizing: border-box;padding-bottom: 0.4em;background-color: white;}#sk-container-id-1 div.sk-label label {font-family: monospace;font-weight: bold;display: inline-block;line-height: 1.2em;}#sk-container-id-1 div.sk-label-container {text-align: center;}#sk-container-id-1 div.sk-container {/* jupyter's `normalize.less` sets `[hidden] { display: none; }` but bootstrap.min.css set `[hidden] { display: none !important; }` so we also need the `!important` here to be able to override the default hidden behavior on the sphinx rendered scikit-learn.org. See: https://github.com/scikit-learn/scikit-learn/issues/21755 */display: inline-block !important;position: relative;}#sk-container-id-1 div.sk-text-repr-fallback {display: none;}</style><div id=\"sk-container-id-1\" class=\"sk-top-container\"><div class=\"sk-text-repr-fallback\"><pre>Pipeline(steps=[(&#x27;scaler&#x27;, StandardScaler()),\n",
       "                (&#x27;model&#x27;,\n",
       "                 LogisticRegression(random_state=2434, solver=&#x27;liblinear&#x27;))])</pre><b>In a Jupyter environment, please rerun this cell to show the HTML representation or trust the notebook. <br />On GitHub, the HTML representation is unable to render, please try loading this page with nbviewer.org.</b></div><div class=\"sk-container\" hidden><div class=\"sk-item sk-dashed-wrapped\"><div class=\"sk-label-container\"><div class=\"sk-label sk-toggleable\"><input class=\"sk-toggleable__control sk-hidden--visually\" id=\"sk-estimator-id-1\" type=\"checkbox\" ><label for=\"sk-estimator-id-1\" class=\"sk-toggleable__label sk-toggleable__label-arrow\">Pipeline</label><div class=\"sk-toggleable__content\"><pre>Pipeline(steps=[(&#x27;scaler&#x27;, StandardScaler()),\n",
       "                (&#x27;model&#x27;,\n",
       "                 LogisticRegression(random_state=2434, solver=&#x27;liblinear&#x27;))])</pre></div></div></div><div class=\"sk-serial\"><div class=\"sk-item\"><div class=\"sk-estimator sk-toggleable\"><input class=\"sk-toggleable__control sk-hidden--visually\" id=\"sk-estimator-id-2\" type=\"checkbox\" ><label for=\"sk-estimator-id-2\" class=\"sk-toggleable__label sk-toggleable__label-arrow\">StandardScaler</label><div class=\"sk-toggleable__content\"><pre>StandardScaler()</pre></div></div></div><div class=\"sk-item\"><div class=\"sk-estimator sk-toggleable\"><input class=\"sk-toggleable__control sk-hidden--visually\" id=\"sk-estimator-id-3\" type=\"checkbox\" ><label for=\"sk-estimator-id-3\" class=\"sk-toggleable__label sk-toggleable__label-arrow\">LogisticRegression</label><div class=\"sk-toggleable__content\"><pre>LogisticRegression(random_state=2434, solver=&#x27;liblinear&#x27;)</pre></div></div></div></div></div></div></div>"
      ],
      "text/plain": [
       "Pipeline(steps=[('scaler', StandardScaler()),\n",
       "                ('model',\n",
       "                 LogisticRegression(random_state=2434, solver='liblinear'))])"
      ]
     },
     "execution_count": 11,
     "metadata": {},
     "output_type": "execute_result"
    }
   ],
   "source": [
    "from sklearn.linear_model import LogisticRegression\n",
    "from sklearn.pipeline import Pipeline\n",
    "from sklearn.preprocessing import StandardScaler\n",
    "\n",
    "model = Pipeline([\n",
    "    ('scaler' , StandardScaler()) ,\n",
    "    ('model' , LogisticRegression(solver='liblinear', random_state=rng_seed) )\n",
    "])\n",
    "model.fit(Xtrain, ytrain)"
   ]
  },
  {
   "cell_type": "code",
   "execution_count": 12,
   "metadata": {
    "deletable": false,
    "editable": false
   },
   "outputs": [
    {
     "data": {
      "text/html": [
       "<p><strong><pre style='display: inline;'>q5p1p1</pre></strong> passed! 🌈</p>"
      ],
      "text/plain": [
       "q5p1p1 results: All test cases passed!"
      ]
     },
     "execution_count": 12,
     "metadata": {},
     "output_type": "execute_result"
    }
   ],
   "source": [
    "grader.check(\"q5p1p1\")"
   ]
  },
  {
   "cell_type": "markdown",
   "metadata": {},
   "source": [
    "### 5.1.2. Hyperparameter tuning with grid search\n",
    "\n",
    "Run grid search (see documentation here: [`GridSearchCV`](https://scikit-learn.org/stable/modules/generated/sklearn.model_selection.GridSearchCV.html)) with 3-fold cross validation. The parameters to search over are:\n",
    "\n",
    "+ the regularization function `penalty`. Candidate values are `l1` and `l2`\n",
    "+ the regularization weight `C`. Candidate values are `np.logspace(-8, 1, 10)`.\n",
    "\n",
    "Note, for `GridSearchCV` to work with the pipeline, it needs to set the parameters of the model using their string names. Within the pipeline, the parameters of the model are prefixed with `model__`. Hence, to set the penalty of logistic regression to `l1` or `l2`, you must include key-value pair `model__penalty : ['l1','l2']` in `param_grid`.\n",
    "\n",
    "Pass the following parameters to the `GridSearchCV` contructor.\n",
    "+ `scoring=['accuracy','recall']`,\n",
    "+ `cv=cvfolds`,\n",
    "+ `refit='recall'`"
   ]
  },
  {
   "cell_type": "code",
   "execution_count": 13,
   "metadata": {
    "execution": {
     "iopub.execute_input": "2022-11-14T21:57:02.253721Z",
     "iopub.status.busy": "2022-11-14T21:57:02.253417Z",
     "iopub.status.idle": "2022-11-14T21:57:04.698642Z",
     "shell.execute_reply": "2022-11-14T21:57:04.697630Z"
    },
    "tags": []
   },
   "outputs": [],
   "source": [
    "from sklearn.model_selection import GridSearchCV\n",
    "cvfolds = 3\n",
    "param_grid = {\n",
    "    'model__penalty' : ['l1', 'l2'],\n",
    "    'model__C' : np.logspace(-8, 1, 10) }\n",
    "gs = GridSearchCV(model, param_grid=param_grid, scoring=['accuracy', 'recall'], cv=cvfolds, refit='recall')\n",
    "gs = gs.fit(Xtrain, ytrain)"
   ]
  },
  {
   "cell_type": "markdown",
   "metadata": {},
   "source": [
    "\n",
    "`lab6_utils.py` contains useful functions for unpacking and plotting the result of the grid search. Use the `unpack_gridsearch` method to extract useful information from the grid search solution. This method returns:\n",
    "1. A pandas dataframe with the cross-validated performance metrics for each point on the grid.\n",
    "2. A dictionary with the best-case hyperparameter values\n",
    "3. The classifier with best-case hyperparameters assigned\n"
   ]
  },
  {
   "cell_type": "code",
   "execution_count": 14,
   "metadata": {
    "execution": {
     "iopub.execute_input": "2022-11-14T21:57:04.708229Z",
     "iopub.status.busy": "2022-11-14T21:57:04.707566Z",
     "iopub.status.idle": "2022-11-14T21:57:04.734640Z",
     "shell.execute_reply": "2022-11-14T21:57:04.733455Z"
    }
   },
   "outputs": [],
   "source": [
    "result_logreg, best_params_logreg, best_model_logreg, best_score_logreg = lab6.unpack_gridsearch(gs,param_grid,cvfolds)"
   ]
  },
  {
   "cell_type": "markdown",
   "metadata": {},
   "source": [
    "`plot_grid_result` plots the results of the grid search."
   ]
  },
  {
   "cell_type": "code",
   "execution_count": 15,
   "metadata": {
    "execution": {
     "iopub.execute_input": "2022-11-14T21:57:04.740535Z",
     "iopub.status.busy": "2022-11-14T21:57:04.739815Z",
     "iopub.status.idle": "2022-11-14T21:57:05.332008Z",
     "shell.execute_reply": "2022-11-14T21:57:05.330823Z"
    }
   },
   "outputs": [
    {
     "data": {
      "image/png": "[encoded data removed]",
      "text/plain": [
       "<Figure size 1400x700 with 1 Axes>"
      ]
     },
     "metadata": {},
     "output_type": "display_data"
    }
   ],
   "source": [
    "lab6.plot_grid_result(result_logreg,param_grid)"
   ]
  },
  {
   "cell_type": "code",
   "execution_count": 16,
   "metadata": {
    "deletable": false,
    "editable": false
   },
   "outputs": [
    {
     "data": {
      "text/html": [
       "<p><strong><pre style='display: inline;'>q5p1p2</pre></strong> passed! 🌈</p>"
      ],
      "text/plain": [
       "q5p1p2 results: All test cases passed!"
      ]
     },
     "execution_count": 16,
     "metadata": {},
     "output_type": "execute_result"
    }
   ],
   "source": [
    "grader.check(\"q5p1p2\")"
   ]
  },
  {
   "cell_type": "markdown",
   "metadata": {},
   "source": [
    "### 5.1.3. Package it into a function\n",
    "\n",
    "Next we will repeat this process with several other classification models. To keep the code clean, you should collect the steps into a single function. This function should receive as inputs:\n",
    "1. The classifier object, e.g. `LogisticRegression(solver='liblinear',random_state=rng_seed)`\n",
    "2. The `param_grid` dictionary that defines the search space for `GridSearchCV`.\n",
    "\n",
    "It should:\n",
    "1. Create the pipeline model\n",
    "2. Construct the `GridSearchCV` object\n",
    "3. Run `fit` on the grid search object, using the training data (no need to pass the data as an argument to `build_grid_plot`; it's a global variable)\n",
    "4. Run `unpack_gridsearch` to obtain `result`, `best_params`, `best_model`, and `best_score`.\n",
    "5. Plot the result with `lab6.plot_grid`\n",
    "6. `return result, best_params, best_model, best_score`"
   ]
  },
  {
   "cell_type": "code",
   "execution_count": 17,
   "metadata": {
    "execution": {
     "iopub.execute_input": "2022-11-14T21:57:05.406316Z",
     "iopub.status.busy": "2022-11-14T21:57:05.405699Z",
     "iopub.status.idle": "2022-11-14T21:57:05.420419Z",
     "shell.execute_reply": "2022-11-14T21:57:05.419182Z"
    },
    "tags": []
   },
   "outputs": [],
   "source": [
    "\n",
    "def build_grid_plot(model,param_grid):\n",
    "\n",
    "    global Xtrain, ytrain, cvfolds\n",
    " \n",
    "    pipe_model = Pipeline([('scaler' , StandardScaler()) , ('model' , model)])\n",
    "    # pipe_model.fit(Xtrain, ytrain)\n",
    "    gs = GridSearchCV(pipe_model, param_grid=param_grid, scoring=['accuracy', 'recall'], cv=cvfolds, refit='recall')\n",
    "    gs = gs.fit(Xtrain, ytrain)\n",
    "    result, best_params, best_model, best_score = lab6.unpack_gridsearch(gs,param_grid,cvfolds)\n",
    "    lab6.plot_grid_result(result,param_grid)\n",
    "\n",
    "    return result, best_params, best_model, best_score\n"
   ]
  },
  {
   "cell_type": "markdown",
   "metadata": {},
   "source": [
    "# Additional models\n",
    "Next we will repeat the exercise for four additional model types: SVMs, Random forests, AdaBoost, and Gradient boosted trees. In each case, use the suggested parameter grid. **Remember to always set the random state for the model in the model's constructor.**"
   ]
  },
  {
   "cell_type": "markdown",
   "metadata": {},
   "source": [
    "# 5.2. Support vector machine\n",
    "\n",
    "+ `kernel: ['poly','rbf']`\n",
    "+ `C: np.logspace(-2, 2, 5)`"
   ]
  },
  {
   "cell_type": "code",
   "execution_count": 18,
   "metadata": {
    "execution": {
     "iopub.execute_input": "2022-11-14T21:57:05.426261Z",
     "iopub.status.busy": "2022-11-14T21:57:05.425499Z",
     "iopub.status.idle": "2022-11-14T21:58:09.863124Z",
     "shell.execute_reply": "2022-11-14T21:58:09.862125Z"
    },
    "tags": []
   },
   "outputs": [
    {
     "data": {
      "image/png": "[encoded data removed]",
      "text/plain": [
       "<Figure size 1400x700 with 1 Axes>"
      ]
     },
     "metadata": {},
     "output_type": "display_data"
    },
    {
     "name": "stdout",
     "output_type": "stream",
     "text": [
      "CPU times: user 46.5 s, sys: 352 ms, total: 46.8 s\n",
      "Wall time: 46 s\n"
     ]
    }
   ],
   "source": [
    "%%time\n",
    "from sklearn.svm import SVC\n",
    "\n",
    "param_grid_svm = { 'model__kernel' : ['poly','rbf'], 'model__C' : np.logspace(-2, 2, 5) }\n",
    "\n",
    "result_svc, best_params_svc, best_model_svc, best_score_svc = build_grid_plot(SVC(random_state=rng_seed), param_grid_svm)"
   ]
  },
  {
   "cell_type": "code",
   "execution_count": 19,
   "metadata": {
    "deletable": false,
    "editable": false
   },
   "outputs": [
    {
     "data": {
      "text/html": [
       "<p><strong><pre style='display: inline;'>q5p2</pre></strong> passed! 🙌</p>"
      ],
      "text/plain": [
       "q5p2 results: All test cases passed!"
      ]
     },
     "execution_count": 19,
     "metadata": {},
     "output_type": "execute_result"
    }
   ],
   "source": [
    "grader.check(\"q5p2\")"
   ]
  },
  {
   "cell_type": "markdown",
   "metadata": {},
   "source": [
    "# 5.3. Random forest\n",
    "\n",
    "+ `max_features: ['sqrt','log2']`\n",
    "+ `n_estimators: np.linspace(2, 100, 5, dtype=int)`"
   ]
  },
  {
   "cell_type": "code",
   "execution_count": 20,
   "metadata": {
    "execution": {
     "iopub.execute_input": "2022-11-14T21:58:09.945970Z",
     "iopub.status.busy": "2022-11-14T21:58:09.945369Z",
     "iopub.status.idle": "2022-11-14T21:58:47.746139Z",
     "shell.execute_reply": "2022-11-14T21:58:47.744452Z"
    },
    "tags": []
   },
   "outputs": [
    {
     "data": {
      "image/png": "[encoded data removed]",
      "text/plain": [
       "<Figure size 1400x700 with 1 Axes>"
      ]
     },
     "metadata": {},
     "output_type": "display_data"
    },
    {
     "name": "stdout",
     "output_type": "stream",
     "text": [
      "CPU times: user 24.8 s, sys: 235 ms, total: 25.1 s\n",
      "Wall time: 24.1 s\n"
     ]
    }
   ],
   "source": [
    "%%time\n",
    "from sklearn.ensemble import RandomForestClassifier\n",
    "\n",
    "param_grid_rf = { 'model__max_features' : ['sqrt','log2'], 'model__n_estimators' : np.linspace(2, 100, 5, dtype=int) }\n",
    "\n",
    "result_rf, best_params_rf, best_model_rf, best_score_rf = build_grid_plot(RandomForestClassifier(random_state=rng_seed), param_grid_rf)"
   ]
  },
  {
   "cell_type": "code",
   "execution_count": 21,
   "metadata": {
    "deletable": false,
    "editable": false
   },
   "outputs": [
    {
     "data": {
      "text/html": [
       "<p><strong><pre style='display: inline;'>q5p3</pre></strong> passed! 💯</p>"
      ],
      "text/plain": [
       "q5p3 results: All test cases passed!"
      ]
     },
     "execution_count": 21,
     "metadata": {},
     "output_type": "execute_result"
    }
   ],
   "source": [
    "grader.check(\"q5p3\")"
   ]
  },
  {
   "cell_type": "markdown",
   "metadata": {},
   "source": [
    "# 5.4. AdaBoost\n",
    "\n",
    "+ `learning_rate: [0.01,0.1]`\n",
    "+ `n_estimators: np.linspace(10, 100, 5, dtype=int)`"
   ]
  },
  {
   "cell_type": "code",
   "execution_count": 22,
   "metadata": {
    "execution": {
     "iopub.execute_input": "2022-11-14T21:58:47.824160Z",
     "iopub.status.busy": "2022-11-14T21:58:47.823548Z",
     "iopub.status.idle": "2022-11-14T21:59:12.727311Z",
     "shell.execute_reply": "2022-11-14T21:59:12.726181Z"
    },
    "tags": []
   },
   "outputs": [
    {
     "data": {
      "image/png": "[encoded data removed]",
      "text/plain": [
       "<Figure size 1400x700 with 1 Axes>"
      ]
     },
     "metadata": {},
     "output_type": "display_data"
    },
    {
     "name": "stdout",
     "output_type": "stream",
     "text": [
      "CPU times: user 18.4 s, sys: 345 ms, total: 18.8 s\n",
      "Wall time: 18.1 s\n"
     ]
    }
   ],
   "source": [
    "%%time\n",
    "from sklearn.ensemble import AdaBoostClassifier\n",
    "\n",
    "param_grid_ab = { 'model__learning_rate' : [0.01,0.1],\n",
    "                  'model__n_estimators' : np.linspace(10, 100, 5, dtype=int) }\n",
    "\n",
    "result_ab, best_params_ab, best_model_ab, best_score_ab = build_grid_plot(AdaBoostClassifier(random_state=rng_seed), param_grid_ab)"
   ]
  },
  {
   "cell_type": "code",
   "execution_count": 23,
   "metadata": {
    "deletable": false,
    "editable": false
   },
   "outputs": [
    {
     "data": {
      "text/html": [
       "<p><strong><pre style='display: inline;'>q5p4</pre></strong> passed! 🌈</p>"
      ],
      "text/plain": [
       "q5p4 results: All test cases passed!"
      ]
     },
     "execution_count": 23,
     "metadata": {},
     "output_type": "execute_result"
    }
   ],
   "source": [
    "grader.check(\"q5p4\")"
   ]
  },
  {
   "cell_type": "markdown",
   "metadata": {},
   "source": [
    "# 5.5. Gradient Boosted Trees\n",
    "\n",
    "+ `learning_rate: [0.1,1.0]`\n",
    "+ `n_estimators' : [50,75,100]`"
   ]
  },
  {
   "cell_type": "code",
   "execution_count": 24,
   "metadata": {
    "execution": {
     "iopub.execute_input": "2022-11-14T21:59:12.804535Z",
     "iopub.status.busy": "2022-11-14T21:59:12.803851Z",
     "iopub.status.idle": "2022-11-14T21:59:47.777454Z",
     "shell.execute_reply": "2022-11-14T21:59:47.776470Z"
    },
    "tags": []
   },
   "outputs": [
    {
     "data": {
      "image/png": "[encoded data removed]",
      "text/plain": [
       "<Figure size 1400x700 with 1 Axes>"
      ]
     },
     "metadata": {},
     "output_type": "display_data"
    },
    {
     "name": "stdout",
     "output_type": "stream",
     "text": [
      "CPU times: user 24.4 s, sys: 224 ms, total: 24.6 s\n",
      "Wall time: 23.6 s\n"
     ]
    }
   ],
   "source": [
    "%%time\n",
    "from sklearn.ensemble import GradientBoostingClassifier\n",
    "\n",
    "param_grid_gbc = {'model__learning_rate':[0.1,1.0], 'model__n_estimators':[50,75,100]}\n",
    "\n",
    "\n",
    "result_gbc, best_params_gbc, best_model_gbc, best_score_gbc = build_grid_plot(GradientBoostingClassifier(random_state=rng_seed), param_grid_gbc)"
   ]
  },
  {
   "cell_type": "code",
   "execution_count": 25,
   "metadata": {
    "deletable": false,
    "editable": false
   },
   "outputs": [
    {
     "data": {
      "text/html": [
       "<p><strong style='color: red;'><pre style='display: inline;'>q5p5</pre> results:</strong></p><p><strong><pre style='display: inline;'>q5p5 - 1</pre> result:</strong></p><pre>    ✅ Test case passed</pre><p><strong><pre style='display: inline;'>q5p5 - 2</pre> result:</strong></p><pre>    ❌ Test case failed\n",
       "    Trying:\n",
       "        np.all(np.isclose(result_gbc[0.1]['mean_test_recall'].to_numpy(dtype=float),[0.80541512, 0.80735311, 0.81026008],1e-3))\n",
       "    Expecting:\n",
       "        True\n",
       "    **********************************************************************\n",
       "    Line 1, in q5p5 1\n",
       "    Failed example:\n",
       "        np.all(np.isclose(result_gbc[0.1]['mean_test_recall'].to_numpy(dtype=float),[0.80541512, 0.80735311, 0.81026008],1e-3))\n",
       "    Expected:\n",
       "        True\n",
       "    Got:\n",
       "        False\n",
       "</pre><p><strong><pre style='display: inline;'>q5p5 - 3</pre> result:</strong></p><pre>    ✅ Test case passed</pre><p><strong><pre style='display: inline;'>q5p5 - 4</pre> result:</strong></p><pre>    ✅ Test case passed</pre><p><strong><pre style='display: inline;'>q5p5 - 5</pre> result:</strong></p><pre>    ✅ Test case passed</pre>"
      ],
      "text/plain": [
       "q5p5 results:\n",
       "    q5p5 - 1 result:\n",
       "        ✅ Test case passed\n",
       "\n",
       "    q5p5 - 2 result:\n",
       "        ❌ Test case failed\n",
       "        Trying:\n",
       "            np.all(np.isclose(result_gbc[0.1]['mean_test_recall'].to_numpy(dtype=float),[0.80541512, 0.80735311, 0.81026008],1e-3))\n",
       "        Expecting:\n",
       "            True\n",
       "        **********************************************************************\n",
       "        Line 1, in q5p5 1\n",
       "        Failed example:\n",
       "            np.all(np.isclose(result_gbc[0.1]['mean_test_recall'].to_numpy(dtype=float),[0.80541512, 0.80735311, 0.81026008],1e-3))\n",
       "        Expected:\n",
       "            True\n",
       "        Got:\n",
       "            False\n",
       "\n",
       "    q5p5 - 3 result:\n",
       "        ✅ Test case passed\n",
       "\n",
       "    q5p5 - 4 result:\n",
       "        ✅ Test case passed\n",
       "\n",
       "    q5p5 - 5 result:\n",
       "        ✅ Test case passed"
      ]
     },
     "execution_count": 25,
     "metadata": {},
     "output_type": "execute_result"
    }
   ],
   "source": [
    "grader.check(\"q5p5\")"
   ]
  },
  {
   "cell_type": "markdown",
   "metadata": {},
   "source": [
    "# 6. Final model selection\n",
    "\n",
    "Select the classifier with the largest recall obtained from the grid search. Store its name, the model, and its recall score. These are listed in `all_models`.\n",
    "\n",
    "Then compute the test accuracy and recall and store them as `final_accuracy` and `final_recall`."
   ]
  },
  {
   "cell_type": "code",
   "execution_count": 26,
   "metadata": {
    "execution": {
     "iopub.execute_input": "2022-11-14T21:59:47.834105Z",
     "iopub.status.busy": "2022-11-14T21:59:47.833823Z",
     "iopub.status.idle": "2022-11-14T21:59:47.853838Z",
     "shell.execute_reply": "2022-11-14T21:59:47.852620Z"
    },
    "tags": []
   },
   "outputs": [],
   "source": [
    "from sklearn.metrics import accuracy_score, recall_score\n",
    "\n",
    "all_models = [\n",
    "    ('logreg',best_model_logreg, best_score_logreg),\n",
    "    ('svc',best_model_svc, best_score_svc),\n",
    "    ('rf',best_model_rf, best_score_rf),\n",
    "    ('ab',best_model_ab, best_score_ab),\n",
    "    ('gbc',best_model_gbc, best_score_gbc),\n",
    "]\n",
    "\n",
    "best_name = 'gbc'\n",
    "best_model = best_model_gbc\n",
    "best_score = best_score_gbc\n",
    "\n",
    "ypred = best_model.predict(Xtest)\n",
    "final_accuracy = accuracy_score(ytest, ypred)\n",
    "final_recall = recall_score(ytest, ypred)"
   ]
  },
  {
   "cell_type": "code",
   "execution_count": 27,
   "metadata": {
    "deletable": false,
    "editable": false
   },
   "outputs": [
    {
     "name": "stdout",
     "output_type": "stream",
     "text": [
      "0.9736632083000798\n"
     ]
    },
    {
     "data": {
      "text/html": [
       "<p><strong><pre style='display: inline;'>q6</pre></strong> passed! ✨</p>"
      ],
      "text/plain": [
       "q6 results: All test cases passed!"
      ]
     },
     "execution_count": 27,
     "metadata": {},
     "output_type": "execute_result"
    }
   ],
   "source": [
    "print(final_accuracy)\n",
    "grader.check(\"q6\")"
   ]
  },
  {
   "cell_type": "markdown",
   "metadata": {
    "deletable": false,
    "editable": false
   },
   "source": [
    "## Submission\n",
    "\n",
    "Make sure you have run all cells in your notebook in order before running the cell below, so that all images/graphs appear in the output. The cell below will generate a zip file for you to submit. **Please save before exporting!**"
   ]
  },
  {
   "cell_type": "code",
   "execution_count": 28,
   "metadata": {
    "deletable": false,
    "editable": false
   },
   "outputs": [
    {
     "data": {
      "text/html": [
       "\n",
       "            <p>Your submission has been exported. Click <a href=\"lab6_2022_11_28T15_39_25_720553.zip\" download=\"lab6_2022_11_28T15_39_25_720553.zip\" target=\"_blank\">here</a>\n",
       "            to download the zip file.</p>\n",
       "            "
      ],
      "text/plain": [
       "<IPython.core.display.HTML object>"
      ]
     },
     "metadata": {},
     "output_type": "display_data"
    }
   ],
   "source": [
    "# Save your notebook first, then run this cell to export your submission.\n",
    "grader.export(pdf=False)"
   ]
  },
  {
   "cell_type": "markdown",
   "metadata": {},
   "source": [
    " "
   ]
  }
 ],
 "metadata": {
  "kernelspec": {
   "display_name": "Python 3.9.13 ('sdse')",
   "language": "python",
   "name": "python3"
  },
  "language_info": {
   "codemirror_mode": {
    "name": "ipython",
    "version": 3
   },
   "file_extension": ".py",
   "mimetype": "text/x-python",
   "name": "python",
   "nbconvert_exporter": "python",
   "pygments_lexer": "ipython3",
   "version": "3.9.13"
  },
  "otter": {
   "OK_FORMAT": true,
   "tests": {
    "q1": {
     "name": "q1",
     "points": null,
     "suites": [
      {
       "cases": [
        {
         "code": ">>> set(feature_names)=={' Mean of the integrated profile',\n...        ' Standard deviation of the integrated profile',\n...        ' Excess kurtosis of the integrated profile',\n...        ' Skewness of the integrated profile', ' Mean of the DM-SNR curve',\n...        ' Standard deviation of the DM-SNR curve',\n...        ' Excess kurtosis of the DM-SNR curve',\n...        ' Skewness of the DM-SNR curve'}\nTrue",
         "hidden": false,
         "locked": false,
         "points": 1
        }
       ],
       "scored": true,
       "setup": "",
       "teardown": "",
       "type": "doctest"
      }
     ]
    },
    "q2": {
     "name": "q2",
     "points": null,
     "suites": [
      {
       "cases": [
        {
         "code": ">>> numnulls_in_feature=={' Mean of the integrated profile': 0,\n...  ' Standard deviation of the integrated profile': 0,\n...  ' Excess kurtosis of the integrated profile': 1735,\n...  ' Skewness of the integrated profile': 0,\n...  ' Mean of the DM-SNR curve': 0,\n...  ' Standard deviation of the DM-SNR curve': 1178,\n...  ' Excess kurtosis of the DM-SNR curve': 0,\n...  ' Skewness of the DM-SNR curve': 625}\nTrue",
         "hidden": false,
         "locked": false,
         "points": 1
        },
        {
         "code": ">>> set(feature_names)=={' Excess kurtosis of the DM-SNR curve',\n...  ' Mean of the DM-SNR curve',\n...  ' Mean of the integrated profile',\n...  ' Skewness of the integrated profile',\n...  ' Standard deviation of the integrated profile'}\nTrue",
         "hidden": false,
         "locked": false,
         "points": 1
        }
       ],
       "scored": true,
       "setup": "",
       "teardown": "",
       "type": "doctest"
      }
     ]
    },
    "q3": {
     "name": "q3",
     "points": null,
     "suites": [
      {
       "cases": [
        {
         "code": ">>> N0==11375\nTrue",
         "hidden": false,
         "locked": false,
         "points": 1
        },
        {
         "code": ">>> N1==1153\nTrue",
         "hidden": false,
         "locked": false,
         "points": 1
        }
       ],
       "scored": true,
       "setup": "",
       "teardown": "",
       "type": "doctest"
      }
     ]
    },
    "q4": {
     "name": "q4",
     "points": null,
     "suites": [
      {
       "cases": [
        {
         "code": ">>> Xtrain.shape==(11275, 5)\nTrue",
         "hidden": false,
         "locked": false,
         "points": 1
        },
        {
         "code": ">>> Xtest.shape==(1253, 5)\nTrue",
         "hidden": false,
         "locked": false,
         "points": 1
        },
        {
         "code": ">>> np.all(np.isclose(Xtrain.loc[0,:].values,[ 1.21156250e+02,  4.83729711e+01, -1.31654890e-02,  3.16889632e+00,\n...         7.44987415e+00]))\nTrue",
         "hidden": false,
         "locked": false,
         "points": 1
        }
       ],
       "scored": true,
       "setup": "",
       "teardown": "",
       "type": "doctest"
      }
     ]
    },
    "q5p1p1": {
     "name": "q5p1p1",
     "points": null,
     "suites": [
      {
       "cases": [
        {
         "code": ">>> np.all(np.isclose(model.named_steps['scaler'].scale_,[25.66842747,  \n...                                                       6.77911222,  6.18703268, 29.56810699,  4.52959342]))\nTrue",
         "hidden": false,
         "locked": false,
         "points": 1
        },
        {
         "code": ">>> np.all(np.isclose(model.named_steps['scaler'].mean_,[111.00540743,  46.52346098,   \n...                                                      1.77042614,  12.65272831,8.33728113]))\nTrue",
         "hidden": false,
         "locked": false,
         "points": 1
        }
       ],
       "scored": true,
       "setup": "",
       "teardown": "",
       "type": "doctest"
      }
     ]
    },
    "q5p1p2": {
     "name": "q5p1p2",
     "points": null,
     "suites": [
      {
       "cases": [
        {
         "code": ">>> best_params_logreg=={'model__C': 1e-08, 'model__penalty': 'l2'}\nTrue",
         "hidden": false,
         "locked": false,
         "points": 1
        },
        {
         "code": ">>> np.all(np.isclose(result_logreg['l1']['mean_test_accuracy'].to_numpy(dtype=float),[0.90838139, 0.90838139, 0.90838139, 0.90838139, 0.90838139,\n...        0.93073139, 0.96851422, 0.97250542, 0.9744566 , 0.97454527],1e-3))\nTrue",
         "hidden": false,
         "locked": false,
         "points": 1
        },
        {
         "code": ">>> np.all(np.isclose(result_logreg['l1']['mean_test_recall'].to_numpy(dtype=float),[0.        , 0.        , 0.        , 0.        , 0.        ,\n...        0.2439108 , 0.68149365, 0.74152342, 0.76378778, 0.76475396],1e-3))\nTrue",
         "hidden": false,
         "locked": false,
         "points": 1
        },
        {
         "code": ">>> np.all(np.isclose(result_logreg['l2']['mean_test_accuracy'].to_numpy(dtype=float),[0.95547697, 0.95547697, 0.95556565, 0.95733943, 0.96452332,\n...        0.96798216, 0.97037679, 0.97259412, 0.97436787, 0.97454527],1e-3))\nTrue",
         "hidden": false,
         "locked": false,
         "points": 1
        },
        {
         "code": ">>> np.all(np.isclose(result_logreg['l2']['mean_test_recall'].to_numpy(dtype=float),[0.80638692, 0.80638692, 0.80638692, 0.7996124 , 0.76863555,\n...        0.69214976, 0.71054095, 0.74152342, 0.76184698, 0.76475396],1e-3))\nTrue",
         "hidden": false,
         "locked": false,
         "points": 1
        }
       ],
       "scored": true,
       "setup": "",
       "teardown": "",
       "type": "doctest"
      }
     ]
    },
    "q5p2": {
     "name": "q5p2",
     "points": null,
     "suites": [
      {
       "cases": [
        {
         "code": ">>> np.all(np.isclose(result_svc['poly']['mean_test_accuracy'].to_numpy(dtype=float),[0.96541006, 0.96993329, 0.97179594, 0.97490012, 0.9756096 ],1e-3))\nTrue",
         "hidden": false,
         "locked": false,
         "points": 1
        },
        {
         "code": ">>> np.all(np.isclose(result_svc['poly']['mean_test_recall'].to_numpy(dtype=float),[0.63793394, 0.69989046, 0.72700539, 0.7618526 , 0.77637625],1e-3))\nTrue",
         "hidden": false,
         "locked": false,
         "points": 1
        },
        {
         "code": ">>> np.all(np.isclose(result_svc['rbf']['mean_test_accuracy'].to_numpy(dtype=float),[0.95937909, 0.97303752, 0.97640773, 0.97809309, 0.97685151],1e-3))\nTrue",
         "hidden": false,
         "locked": false,
         "points": 1
        },
        {
         "code": ">>> np.all(np.isclose(result_svc['rbf']['mean_test_recall'].to_numpy(dtype=float),[0.56340299, 0.73667565, 0.78313673, 0.80832772, 0.80543197],1e-3))\nTrue",
         "hidden": false,
         "locked": false,
         "points": 1
        },
        {
         "code": ">>> best_params_svc=={'model__C': 10.0, 'model__kernel': 'rbf'}\nTrue",
         "hidden": false,
         "locked": false,
         "points": 1
        }
       ],
       "scored": true,
       "setup": "",
       "teardown": "",
       "type": "doctest"
      }
     ]
    },
    "q5p3": {
     "name": "q5p3",
     "points": null,
     "suites": [
      {
       "cases": [
        {
         "code": ">>> np.all(np.isclose(result_rf['sqrt']['mean_test_accuracy'].to_numpy(dtype=float),[0.96993343, 0.97516615, 0.97578697, 0.9764078 , 0.97649655],1e-3))\nTrue",
         "hidden": false,
         "locked": false,
         "points": 1
        },
        {
         "code": ">>> np.all(np.isclose(result_rf['sqrt']['mean_test_recall'].to_numpy(dtype=float),[0.72606168, 0.79186047, 0.80154758, 0.80638131, 0.80444894],1e-3))\nTrue",
         "hidden": false,
         "locked": false,
         "points": 1
        },
        {
         "code": ">>> np.all(np.isclose(result_rf['log2']['mean_test_accuracy'].to_numpy(dtype=float),[0.96993343, 0.97516615, 0.97578697, 0.9764078 , 0.97649655],1e-3))\nTrue",
         "hidden": false,
         "locked": false,
         "points": 1
        },
        {
         "code": ">>> np.all(np.isclose(result_rf['log2']['mean_test_recall'].to_numpy(dtype=float),[0.72606168, 0.79186047, 0.80154758, 0.80638131, 0.80444894],1e-3))\nTrue",
         "hidden": false,
         "locked": false,
         "points": 1
        },
        {
         "code": ">>> best_params_rf=={'model__max_features': 'sqrt', 'model__n_estimators': 75}\nTrue",
         "hidden": false,
         "locked": false,
         "points": 1
        }
       ],
       "scored": true,
       "setup": "",
       "teardown": "",
       "type": "doctest"
      }
     ]
    },
    "q5p4": {
     "name": "q5p4",
     "points": null,
     "suites": [
      {
       "cases": [
        {
         "code": ">>> np.all(np.isclose(result_ab[0.01]['mean_test_accuracy'].to_numpy(dtype=float),[0.96869173, 0.96878043, 0.96931251, 0.96993332, 0.97108625],1e-3))\nTrue",
         "hidden": false,
         "locked": false,
         "points": 1
        },
        {
         "code": ">>> np.all(np.isclose(result_ab[0.01]['mean_test_recall'].to_numpy(dtype=float),[0.72601674, 0.72214077, 0.72022526, 0.723121  , 0.72215481],1e-3))\nTrue",
         "hidden": false,
         "locked": false,
         "points": 1
        },
        {
         "code": ">>> np.all(np.isclose(result_ab[0.1]['mean_test_accuracy'].to_numpy(dtype=float),[0.97161842, 0.97223932, 0.97268272, 0.97303754, 0.97365839],1e-3))\nTrue",
         "hidden": false,
         "locked": false,
         "points": 1
        },
        {
         "code": ">>> np.all(np.isclose(result_ab[0.1]['mean_test_recall'].to_numpy(dtype=float),[0.72506179, 0.72796596, 0.73861364, 0.74442759, 0.75023593],1e-3))\nTrue",
         "hidden": false,
         "locked": false,
         "points": 1
        },
        {
         "code": ">>> best_params_ab=={'model__learning_rate': 0.1, 'model__n_estimators': 100}\nTrue",
         "hidden": false,
         "locked": false,
         "points": 1
        }
       ],
       "scored": true,
       "setup": "",
       "teardown": "",
       "type": "doctest"
      }
     ]
    },
    "q5p5": {
     "name": "q5p5",
     "points": null,
     "suites": [
      {
       "cases": [
        {
         "code": ">>> np.all(np.isclose(result_gbc[0.1]['mean_test_accuracy'].to_numpy(dtype=float),[0.97569827, 0.97525489, 0.97525494],1e-3))\nTrue",
         "hidden": false,
         "locked": false,
         "points": 1
        },
        {
         "code": ">>> np.all(np.isclose(result_gbc[0.1]['mean_test_recall'].to_numpy(dtype=float),[0.80541512, 0.80735311, 0.81026008],1e-3))\nTrue",
         "hidden": false,
         "locked": false,
         "points": 1
        },
        {
         "code": ">>> np.all(np.isclose(result_gbc[1.0]['mean_test_accuracy'].to_numpy(dtype=float),[0.93091028, 0.93002323, 0.93020063],1e-3))\nTrue",
         "hidden": false,
         "locked": false,
         "points": 1
        },
        {
         "code": ">>> np.all(np.isclose(result_gbc[1.0]['mean_test_recall'].to_numpy(dtype=float),[0.33996461, 0.33898719, 0.34383215],1e-3))\nTrue",
         "hidden": false,
         "locked": false,
         "points": 1
        },
        {
         "code": ">>> best_params_gbc=={'model__learning_rate': 0.1, 'model__n_estimators': 100}\nTrue",
         "hidden": false,
         "locked": false,
         "points": 1
        }
       ],
       "scored": true,
       "setup": "",
       "teardown": "",
       "type": "doctest"
      }
     ]
    },
    "q6": {
     "name": "q6",
     "points": null,
     "suites": [
      {
       "cases": [
        {
         "code": ">>> np.isclose(final_accuracy,0.9736632083000798,1e-3)\nTrue",
         "hidden": false,
         "locked": false,
         "points": 1
        },
        {
         "code": ">>> np.isclose(final_recall,0.7833333333333333,1e-3)\nTrue",
         "hidden": false,
         "locked": false,
         "points": 1
        }
       ],
       "scored": true,
       "setup": "",
       "teardown": "",
       "type": "doctest"
      }
     ]
    }
   }
  },
  "vscode": {
   "interpreter": {
    "hash": "a3562645294ceb3e94f32aca29fc03cad9e666bc0a1444d24da08109d39c53bf"
   }
  }
 },
 "nbformat": 4,
 "nbformat_minor": 1
}
